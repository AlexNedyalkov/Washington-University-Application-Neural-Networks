{
  "nbformat": 4,
  "nbformat_minor": 0,
  "metadata": {
    "anaconda-cloud": {},
    "kernelspec": {
      "display_name": "Python 3.6 (tensorflow)",
      "language": "python",
      "name": "rga"
    },
    "language_info": {
      "codemirror_mode": {
        "name": "ipython",
        "version": 3
      },
      "file_extension": ".py",
      "mimetype": "text/x-python",
      "name": "python",
      "nbconvert_exporter": "python",
      "pygments_lexer": "ipython3",
      "version": "3.7.5"
    },
    "colab": {
      "name": "Applications_of_DNNs_Assignment_AlexNedyalkov_class3.ipynb",
      "provenance": [],
      "collapsed_sections": [],
      "include_colab_link": true
    }
  },
  "cells": [
    {
      "cell_type": "markdown",
      "metadata": {
        "id": "view-in-github",
        "colab_type": "text"
      },
      "source": [
        "<a href=\"https://colab.research.google.com/github/AlexNedyalkov/Washington-University-Application-Neural-Networks/blob/master/Applications_of_DNNs_Assignment_AlexNedyalkov_class3.ipynb\" target=\"_parent\"><img src=\"https://colab.research.google.com/assets/colab-badge.svg\" alt=\"Open In Colab\"/></a>"
      ]
    },
    {
      "cell_type": "markdown",
      "metadata": {
        "id": "4iQCsVQ3jjQK",
        "colab_type": "text"
      },
      "source": [
        "<a href=\"https://colab.research.google.com/github/jeffheaton/t81_558_deep_learning/blob/master/assignments/assignment_yourname_class3.ipynb\" target=\"_parent\"><img src=\"https://colab.research.google.com/assets/colab-badge.svg\" alt=\"Open In Colab\"/></a>"
      ]
    },
    {
      "cell_type": "markdown",
      "metadata": {
        "id": "WusWv689jjQR",
        "colab_type": "text"
      },
      "source": [
        "# T81-558: Applications of Deep Neural Networks\n",
        "* Instructor: [Jeff Heaton](https://sites.wustl.edu/jeffheaton/), School of Engineering and Applied Science, [Washington University in St. Louis](https://engineering.wustl.edu/Programs/Pages/default.aspx)\n",
        "* For more information visit the [class website](https://sites.wustl.edu/jeffheaton/t81-558/).\n",
        "\n",
        "**Module 3 Assignment: Data Preparation in Pandas**\n",
        "\n",
        "**Student Name: Alex Nedyalkov**\n"
      ]
    },
    {
      "cell_type": "markdown",
      "metadata": {
        "id": "eLI6EC1tjjQX",
        "colab_type": "text"
      },
      "source": [
        "# Assignment Instructions\n",
        "\n",
        "For this assignment, you will use the **series-31** dataset.  This file contains a dataset that I generated explicitly for this semester.  You can find the CSV file on my data site, at this location: [series-31](https://data.heatonresearch.com/data/t81-558/datasets/series-31.csv). Load and summarize the data set.  You will submit this summarized dataset to the **submit** function.  See [Assignment #1](https://github.com/jeffheaton/t81_558_deep_learning/blob/master/assignments/assignment_yourname_class1.ipynb) for details on how to submit an assignment or check that one was submitted.\n",
        "\n",
        "The RAW datafile looks something like the following:\n",
        "\n",
        "\n",
        "|time|value|\n",
        "|----|-----|\n",
        "|8/22/19 12:51|    19.19535862|\n",
        "|9/19/19 9:44|13.51954348|\n",
        "|8/26/19 14:05|9.191413297|\n",
        "|8/19/19 16:37|18.34659762|\n",
        "|9/5/19 9:18|1.349778007|\n",
        "|9/2/19 10:23|8.462216832|\n",
        "|8/23/19 15:05|17.2471252|\n",
        "|...|...|\n",
        "\n",
        "Summarize the dataset as follows:\n",
        "\n",
        "|date|starting|max|min|ending|\n",
        "|---|---|---|---|---|\n",
        "|8/19/19|17.57352208|18.46883497|17.57352208|18.46883497|\n",
        "|8/20/19|19.49660945|19.84883044|19.49660945|19.84883044|\n",
        "|8/21/19|20.0339169|20.0339169|19.92099707|19.92099707|\n",
        "|...|...|...|...|...|\n",
        "\n",
        "* There should be one row for each unique date in the data set.\n",
        "* Think of the **value** as a stock price.  You only have values during certain hours and certain days.\n",
        "* The **date** column is each of the different dates in the file.\n",
        "* The **starting** column is the first **value** of that date (has the earliest time).\n",
        "* The **max** column is the maximum **value** for that day.\n",
        "* The **min** column is the minimum **value** for that day.\n",
        "* The **ending** column is the final **value** for that day (has the latest time).\n",
        "\n",
        "You can process the **time** column either as strings or as Python **datetime**.  It may be necessary to use Pandas functions beyond those given in the class lecture.\n",
        "\n",
        "Note, you might get the following warning on the date field from the API.  You can safely ignore this warning:\n",
        "\n",
        "* Warning: The mean of column date differs from the solution file by 2010.4. (might not matter if small)\n",
        "\n",
        "Your submission triggers this warning due to the method you use to convert the time/date.  Your code is correct, whether you get this warning or not."
      ]
    },
    {
      "cell_type": "markdown",
      "metadata": {
        "id": "no3EGGIxjjQc",
        "colab_type": "text"
      },
      "source": [
        "# Google CoLab Instructions\n",
        "\n",
        "If you are using Google CoLab, it will be necessary to mount your GDrive so that you can send your notebook during the submit process. Running the following code will map your GDrive to ```/content/drive```."
      ]
    },
    {
      "cell_type": "code",
      "metadata": {
        "id": "dnKor8wWjjQh",
        "colab_type": "code",
        "colab": {
          "base_uri": "https://localhost:8080/",
          "height": 73
        },
        "outputId": "86b28366-91c8-4e48-8216-dee267f41aa8"
      },
      "source": [
        "try:\n",
        "    from google.colab import drive\n",
        "    drive.mount('/content/drive', force_remount=True)\n",
        "    COLAB = True\n",
        "    print(\"Note: using Google CoLab\")\n",
        "    %tensorflow_version 2.x\n",
        "except:\n",
        "    print(\"Note: not using Google CoLab\")\n",
        "    COLAB = False"
      ],
      "execution_count": 1,
      "outputs": [
        {
          "output_type": "stream",
          "text": [
            "Mounted at /content/drive\n",
            "Note: using Google CoLab\n",
            "TensorFlow 2.x selected.\n"
          ],
          "name": "stdout"
        }
      ]
    },
    {
      "cell_type": "markdown",
      "metadata": {
        "id": "teYFjZ88jjQ0",
        "colab_type": "text"
      },
      "source": [
        "# Assignment Submit Function\n",
        "\n",
        "You will submit the 10 programming assignments electronically.  The following submit function can be used to do this.  My server will perform a basic check of each assignment and let you know if it sees any basic problems. \n",
        "\n",
        "**It is unlikely that should need to modify this function.**"
      ]
    },
    {
      "cell_type": "code",
      "metadata": {
        "id": "W6biOq3_jjQ4",
        "colab_type": "code",
        "colab": {}
      },
      "source": [
        "import base64\n",
        "import os\n",
        "import numpy as np\n",
        "import pandas as pd\n",
        "import requests\n",
        "\n",
        "# This function submits an assignment.  You can submit an assignment as much as you like, only the final\n",
        "# submission counts.  The paramaters are as follows:\n",
        "# data - Pandas dataframe output.\n",
        "# key - Your student key that was emailed to you.\n",
        "# no - The assignment class number, should be 1 through 1.\n",
        "# source_file - The full path to your Python or IPYNB file.  This must have \"_class1\" as part of its name.  \n",
        "# .             The number must match your assignment number.  For example \"_class2\" for class assignment #2.\n",
        "def submit(data,key,no,source_file=None):\n",
        "    if source_file is None and '__file__' not in globals(): raise Exception('Must specify a filename when a Jupyter notebook.')\n",
        "    if source_file is None: source_file = __file__\n",
        "    suffix = '_class{}'.format(no)\n",
        "    if suffix not in source_file: raise Exception('{} must be part of the filename.'.format(suffix))\n",
        "    with open(source_file, \"rb\") as image_file:\n",
        "        encoded_python = base64.b64encode(image_file.read()).decode('ascii')\n",
        "    ext = os.path.splitext(source_file)[-1].lower()\n",
        "    if ext not in ['.ipynb','.py']: raise Exception(\"Source file is {} must be .py or .ipynb\".format(ext))\n",
        "    r = requests.post(\"https://api.heatonresearch.com/assignment-submit\",\n",
        "        headers={'x-api-key':key}, json={'csv':base64.b64encode(data.to_csv(index=False).encode('ascii')).decode(\"ascii\"),\n",
        "        'assignment': no, 'ext':ext, 'py':encoded_python})\n",
        "    if r.status_code == 200:\n",
        "        print(\"Success: {}\".format(r.text))\n",
        "    else: print(\"Failure: {}\".format(r.text))"
      ],
      "execution_count": 0,
      "outputs": []
    },
    {
      "cell_type": "code",
      "metadata": {
        "id": "X7Em6tw3k7z4",
        "colab_type": "code",
        "colab": {
          "base_uri": "https://localhost:8080/",
          "height": 363
        },
        "outputId": "360a84be-b190-4982-b582-18543c704b12"
      },
      "source": [
        "# Begin assignment\n",
        "\n",
        "df = pd.read_csv(\"https://data.heatonresearch.com/data/t81-558/datasets/series-31.csv\")\n",
        "df['time'] = pd.to_datetime(df['time'], errors='coerce')\n",
        "display(df[:10])\n",
        "# Your code goes here."
      ],
      "execution_count": 3,
      "outputs": [
        {
          "output_type": "display_data",
          "data": {
            "text/html": [
              "<div>\n",
              "<style scoped>\n",
              "    .dataframe tbody tr th:only-of-type {\n",
              "        vertical-align: middle;\n",
              "    }\n",
              "\n",
              "    .dataframe tbody tr th {\n",
              "        vertical-align: top;\n",
              "    }\n",
              "\n",
              "    .dataframe thead th {\n",
              "        text-align: right;\n",
              "    }\n",
              "</style>\n",
              "<table border=\"1\" class=\"dataframe\">\n",
              "  <thead>\n",
              "    <tr style=\"text-align: right;\">\n",
              "      <th></th>\n",
              "      <th>time</th>\n",
              "      <th>value</th>\n",
              "    </tr>\n",
              "  </thead>\n",
              "  <tbody>\n",
              "    <tr>\n",
              "      <th>0</th>\n",
              "      <td>2019-08-22 12:51:00</td>\n",
              "      <td>19.195359</td>\n",
              "    </tr>\n",
              "    <tr>\n",
              "      <th>1</th>\n",
              "      <td>2019-09-19 09:44:00</td>\n",
              "      <td>13.519543</td>\n",
              "    </tr>\n",
              "    <tr>\n",
              "      <th>2</th>\n",
              "      <td>2019-08-26 14:05:00</td>\n",
              "      <td>9.191413</td>\n",
              "    </tr>\n",
              "    <tr>\n",
              "      <th>3</th>\n",
              "      <td>2019-08-19 16:37:00</td>\n",
              "      <td>18.346598</td>\n",
              "    </tr>\n",
              "    <tr>\n",
              "      <th>4</th>\n",
              "      <td>2019-09-05 09:18:00</td>\n",
              "      <td>1.349778</td>\n",
              "    </tr>\n",
              "    <tr>\n",
              "      <th>5</th>\n",
              "      <td>2019-09-02 10:23:00</td>\n",
              "      <td>8.462217</td>\n",
              "    </tr>\n",
              "    <tr>\n",
              "      <th>6</th>\n",
              "      <td>2019-08-23 15:05:00</td>\n",
              "      <td>17.247125</td>\n",
              "    </tr>\n",
              "    <tr>\n",
              "      <th>7</th>\n",
              "      <td>2019-08-22 10:44:00</td>\n",
              "      <td>19.307439</td>\n",
              "    </tr>\n",
              "    <tr>\n",
              "      <th>8</th>\n",
              "      <td>2019-08-29 10:26:00</td>\n",
              "      <td>7.748959</td>\n",
              "    </tr>\n",
              "    <tr>\n",
              "      <th>9</th>\n",
              "      <td>2019-09-11 14:02:00</td>\n",
              "      <td>33.741233</td>\n",
              "    </tr>\n",
              "  </tbody>\n",
              "</table>\n",
              "</div>"
            ],
            "text/plain": [
              "                 time      value\n",
              "0 2019-08-22 12:51:00  19.195359\n",
              "1 2019-09-19 09:44:00  13.519543\n",
              "2 2019-08-26 14:05:00   9.191413\n",
              "3 2019-08-19 16:37:00  18.346598\n",
              "4 2019-09-05 09:18:00   1.349778\n",
              "5 2019-09-02 10:23:00   8.462217\n",
              "6 2019-08-23 15:05:00  17.247125\n",
              "7 2019-08-22 10:44:00  19.307439\n",
              "8 2019-08-29 10:26:00   7.748959\n",
              "9 2019-09-11 14:02:00  33.741233"
            ]
          },
          "metadata": {
            "tags": []
          }
        }
      ]
    },
    {
      "cell_type": "code",
      "metadata": {
        "id": "vHuywVGHn0mz",
        "colab_type": "code",
        "colab": {}
      },
      "source": [
        "df = df.set_index(\"time\")\n"
      ],
      "execution_count": 0,
      "outputs": []
    },
    {
      "cell_type": "code",
      "metadata": {
        "id": "hV7mqMe9pIpO",
        "colab_type": "code",
        "colab": {
          "base_uri": "https://localhost:8080/",
          "height": 237
        },
        "outputId": "0f1024f7-0e13-48a8-8f6c-4d59863ef45c"
      },
      "source": [
        "df.head()"
      ],
      "execution_count": 5,
      "outputs": [
        {
          "output_type": "execute_result",
          "data": {
            "text/html": [
              "<div>\n",
              "<style scoped>\n",
              "    .dataframe tbody tr th:only-of-type {\n",
              "        vertical-align: middle;\n",
              "    }\n",
              "\n",
              "    .dataframe tbody tr th {\n",
              "        vertical-align: top;\n",
              "    }\n",
              "\n",
              "    .dataframe thead th {\n",
              "        text-align: right;\n",
              "    }\n",
              "</style>\n",
              "<table border=\"1\" class=\"dataframe\">\n",
              "  <thead>\n",
              "    <tr style=\"text-align: right;\">\n",
              "      <th></th>\n",
              "      <th>value</th>\n",
              "    </tr>\n",
              "    <tr>\n",
              "      <th>time</th>\n",
              "      <th></th>\n",
              "    </tr>\n",
              "  </thead>\n",
              "  <tbody>\n",
              "    <tr>\n",
              "      <th>2019-08-22 12:51:00</th>\n",
              "      <td>19.195359</td>\n",
              "    </tr>\n",
              "    <tr>\n",
              "      <th>2019-09-19 09:44:00</th>\n",
              "      <td>13.519543</td>\n",
              "    </tr>\n",
              "    <tr>\n",
              "      <th>2019-08-26 14:05:00</th>\n",
              "      <td>9.191413</td>\n",
              "    </tr>\n",
              "    <tr>\n",
              "      <th>2019-08-19 16:37:00</th>\n",
              "      <td>18.346598</td>\n",
              "    </tr>\n",
              "    <tr>\n",
              "      <th>2019-09-05 09:18:00</th>\n",
              "      <td>1.349778</td>\n",
              "    </tr>\n",
              "  </tbody>\n",
              "</table>\n",
              "</div>"
            ],
            "text/plain": [
              "                         value\n",
              "time                          \n",
              "2019-08-22 12:51:00  19.195359\n",
              "2019-09-19 09:44:00  13.519543\n",
              "2019-08-26 14:05:00   9.191413\n",
              "2019-08-19 16:37:00  18.346598\n",
              "2019-09-05 09:18:00   1.349778"
            ]
          },
          "metadata": {
            "tags": []
          },
          "execution_count": 5
        }
      ]
    },
    {
      "cell_type": "code",
      "metadata": {
        "id": "ysiiHD_vxjAu",
        "colab_type": "code",
        "colab": {
          "base_uri": "https://localhost:8080/",
          "height": 708
        },
        "outputId": "094d6f20-fd3a-4238-b76f-a5f36aef805e"
      },
      "source": [
        "df = df.sort_index()\n",
        "display(df[:20])"
      ],
      "execution_count": 6,
      "outputs": [
        {
          "output_type": "display_data",
          "data": {
            "text/html": [
              "<div>\n",
              "<style scoped>\n",
              "    .dataframe tbody tr th:only-of-type {\n",
              "        vertical-align: middle;\n",
              "    }\n",
              "\n",
              "    .dataframe tbody tr th {\n",
              "        vertical-align: top;\n",
              "    }\n",
              "\n",
              "    .dataframe thead th {\n",
              "        text-align: right;\n",
              "    }\n",
              "</style>\n",
              "<table border=\"1\" class=\"dataframe\">\n",
              "  <thead>\n",
              "    <tr style=\"text-align: right;\">\n",
              "      <th></th>\n",
              "      <th>value</th>\n",
              "    </tr>\n",
              "    <tr>\n",
              "      <th>time</th>\n",
              "      <th></th>\n",
              "    </tr>\n",
              "  </thead>\n",
              "  <tbody>\n",
              "    <tr>\n",
              "      <th>2019-08-19 09:00:00</th>\n",
              "      <td>17.573522</td>\n",
              "    </tr>\n",
              "    <tr>\n",
              "      <th>2019-08-19 09:01:00</th>\n",
              "      <td>17.575387</td>\n",
              "    </tr>\n",
              "    <tr>\n",
              "      <th>2019-08-19 09:02:00</th>\n",
              "      <td>17.577250</td>\n",
              "    </tr>\n",
              "    <tr>\n",
              "      <th>2019-08-19 09:03:00</th>\n",
              "      <td>17.579113</td>\n",
              "    </tr>\n",
              "    <tr>\n",
              "      <th>2019-08-19 09:04:00</th>\n",
              "      <td>17.580975</td>\n",
              "    </tr>\n",
              "    <tr>\n",
              "      <th>2019-08-19 09:05:00</th>\n",
              "      <td>17.582837</td>\n",
              "    </tr>\n",
              "    <tr>\n",
              "      <th>2019-08-19 09:06:00</th>\n",
              "      <td>17.584697</td>\n",
              "    </tr>\n",
              "    <tr>\n",
              "      <th>2019-08-19 09:07:00</th>\n",
              "      <td>17.586557</td>\n",
              "    </tr>\n",
              "    <tr>\n",
              "      <th>2019-08-19 09:08:00</th>\n",
              "      <td>17.588416</td>\n",
              "    </tr>\n",
              "    <tr>\n",
              "      <th>2019-08-19 09:09:00</th>\n",
              "      <td>17.590275</td>\n",
              "    </tr>\n",
              "    <tr>\n",
              "      <th>2019-08-19 09:10:00</th>\n",
              "      <td>17.592132</td>\n",
              "    </tr>\n",
              "    <tr>\n",
              "      <th>2019-08-19 09:11:00</th>\n",
              "      <td>17.593989</td>\n",
              "    </tr>\n",
              "    <tr>\n",
              "      <th>2019-08-19 09:12:00</th>\n",
              "      <td>17.595845</td>\n",
              "    </tr>\n",
              "    <tr>\n",
              "      <th>2019-08-19 09:13:00</th>\n",
              "      <td>17.597700</td>\n",
              "    </tr>\n",
              "    <tr>\n",
              "      <th>2019-08-19 09:14:00</th>\n",
              "      <td>17.599555</td>\n",
              "    </tr>\n",
              "    <tr>\n",
              "      <th>2019-08-19 09:15:00</th>\n",
              "      <td>17.601409</td>\n",
              "    </tr>\n",
              "    <tr>\n",
              "      <th>2019-08-19 09:16:00</th>\n",
              "      <td>17.603261</td>\n",
              "    </tr>\n",
              "    <tr>\n",
              "      <th>2019-08-19 09:17:00</th>\n",
              "      <td>17.605114</td>\n",
              "    </tr>\n",
              "    <tr>\n",
              "      <th>2019-08-19 09:18:00</th>\n",
              "      <td>17.606965</td>\n",
              "    </tr>\n",
              "    <tr>\n",
              "      <th>2019-08-19 09:19:00</th>\n",
              "      <td>17.608816</td>\n",
              "    </tr>\n",
              "  </tbody>\n",
              "</table>\n",
              "</div>"
            ],
            "text/plain": [
              "                         value\n",
              "time                          \n",
              "2019-08-19 09:00:00  17.573522\n",
              "2019-08-19 09:01:00  17.575387\n",
              "2019-08-19 09:02:00  17.577250\n",
              "2019-08-19 09:03:00  17.579113\n",
              "2019-08-19 09:04:00  17.580975\n",
              "2019-08-19 09:05:00  17.582837\n",
              "2019-08-19 09:06:00  17.584697\n",
              "2019-08-19 09:07:00  17.586557\n",
              "2019-08-19 09:08:00  17.588416\n",
              "2019-08-19 09:09:00  17.590275\n",
              "2019-08-19 09:10:00  17.592132\n",
              "2019-08-19 09:11:00  17.593989\n",
              "2019-08-19 09:12:00  17.595845\n",
              "2019-08-19 09:13:00  17.597700\n",
              "2019-08-19 09:14:00  17.599555\n",
              "2019-08-19 09:15:00  17.601409\n",
              "2019-08-19 09:16:00  17.603261\n",
              "2019-08-19 09:17:00  17.605114\n",
              "2019-08-19 09:18:00  17.606965\n",
              "2019-08-19 09:19:00  17.608816"
            ]
          },
          "metadata": {
            "tags": []
          }
        }
      ]
    },
    {
      "cell_type": "code",
      "metadata": {
        "id": "XQCqB2nRmkRI",
        "colab_type": "code",
        "colab": {
          "base_uri": "https://localhost:8080/",
          "height": 465
        },
        "outputId": "3500312f-dda7-458f-de1e-f1b65f7e517e"
      },
      "source": [
        "min_series = df.resample(\"D\").min()\n",
        "max_series = df.resample(\"D\").max()\n",
        "print(min_series[:10])\n",
        "print(max_series[:10])"
      ],
      "execution_count": 7,
      "outputs": [
        {
          "output_type": "stream",
          "text": [
            "                value\n",
            "time                 \n",
            "2019-08-19  17.573522\n",
            "2019-08-20  19.496609\n",
            "2019-08-21  19.920997\n",
            "2019-08-22  18.893590\n",
            "2019-08-23  16.974865\n",
            "2019-08-24        NaN\n",
            "2019-08-25        NaN\n",
            "2019-08-26   8.814028\n",
            "2019-08-27   7.175677\n",
            "2019-08-28   6.940731\n",
            "                value\n",
            "time                 \n",
            "2019-08-19  18.468835\n",
            "2019-08-20  19.848830\n",
            "2019-08-21  20.033917\n",
            "2019-08-22  19.393700\n",
            "2019-08-23  17.784213\n",
            "2019-08-24        NaN\n",
            "2019-08-25        NaN\n",
            "2019-08-26   9.717627\n",
            "2019-08-27   7.630234\n",
            "2019-08-28   7.091136\n"
          ],
          "name": "stdout"
        }
      ]
    },
    {
      "cell_type": "code",
      "metadata": {
        "id": "EZb1VlgLqx_4",
        "colab_type": "code",
        "colab": {}
      },
      "source": [
        "start_series = df.asfreq(\"D\")"
      ],
      "execution_count": 0,
      "outputs": []
    },
    {
      "cell_type": "code",
      "metadata": {
        "id": "jJC2Wil58e9P",
        "colab_type": "code",
        "colab": {}
      },
      "source": [
        "start_series = start_series.resample(\"D\").mean()"
      ],
      "execution_count": 0,
      "outputs": []
    },
    {
      "cell_type": "code",
      "metadata": {
        "id": "A8UNvLJzxm14",
        "colab_type": "code",
        "colab": {}
      },
      "source": [
        "end_series = df.resample(\"D\").last()"
      ],
      "execution_count": 0,
      "outputs": []
    },
    {
      "cell_type": "code",
      "metadata": {
        "id": "mjBWjLqt9CVW",
        "colab_type": "code",
        "colab": {
          "base_uri": "https://localhost:8080/",
          "height": 1000
        },
        "outputId": "d53f9478-4a60-47a9-b2da-624b60f57e6d"
      },
      "source": [
        "end_series"
      ],
      "execution_count": 11,
      "outputs": [
        {
          "output_type": "execute_result",
          "data": {
            "text/html": [
              "<div>\n",
              "<style scoped>\n",
              "    .dataframe tbody tr th:only-of-type {\n",
              "        vertical-align: middle;\n",
              "    }\n",
              "\n",
              "    .dataframe tbody tr th {\n",
              "        vertical-align: top;\n",
              "    }\n",
              "\n",
              "    .dataframe thead th {\n",
              "        text-align: right;\n",
              "    }\n",
              "</style>\n",
              "<table border=\"1\" class=\"dataframe\">\n",
              "  <thead>\n",
              "    <tr style=\"text-align: right;\">\n",
              "      <th></th>\n",
              "      <th>value</th>\n",
              "    </tr>\n",
              "    <tr>\n",
              "      <th>time</th>\n",
              "      <th></th>\n",
              "    </tr>\n",
              "  </thead>\n",
              "  <tbody>\n",
              "    <tr>\n",
              "      <th>2019-08-19</th>\n",
              "      <td>18.468835</td>\n",
              "    </tr>\n",
              "    <tr>\n",
              "      <th>2019-08-20</th>\n",
              "      <td>19.848830</td>\n",
              "    </tr>\n",
              "    <tr>\n",
              "      <th>2019-08-21</th>\n",
              "      <td>19.920997</td>\n",
              "    </tr>\n",
              "    <tr>\n",
              "      <th>2019-08-22</th>\n",
              "      <td>18.893590</td>\n",
              "    </tr>\n",
              "    <tr>\n",
              "      <th>2019-08-23</th>\n",
              "      <td>16.974865</td>\n",
              "    </tr>\n",
              "    <tr>\n",
              "      <th>2019-08-24</th>\n",
              "      <td>NaN</td>\n",
              "    </tr>\n",
              "    <tr>\n",
              "      <th>2019-08-25</th>\n",
              "      <td>NaN</td>\n",
              "    </tr>\n",
              "    <tr>\n",
              "      <th>2019-08-26</th>\n",
              "      <td>8.814028</td>\n",
              "    </tr>\n",
              "    <tr>\n",
              "      <th>2019-08-27</th>\n",
              "      <td>7.175677</td>\n",
              "    </tr>\n",
              "    <tr>\n",
              "      <th>2019-08-28</th>\n",
              "      <td>7.091136</td>\n",
              "    </tr>\n",
              "    <tr>\n",
              "      <th>2019-08-29</th>\n",
              "      <td>8.150454</td>\n",
              "    </tr>\n",
              "    <tr>\n",
              "      <th>2019-08-30</th>\n",
              "      <td>9.441207</td>\n",
              "    </tr>\n",
              "    <tr>\n",
              "      <th>2019-08-31</th>\n",
              "      <td>NaN</td>\n",
              "    </tr>\n",
              "    <tr>\n",
              "      <th>2019-09-01</th>\n",
              "      <td>NaN</td>\n",
              "    </tr>\n",
              "    <tr>\n",
              "      <th>2019-09-02</th>\n",
              "      <td>7.862781</td>\n",
              "    </tr>\n",
              "    <tr>\n",
              "      <th>2019-09-03</th>\n",
              "      <td>5.518901</td>\n",
              "    </tr>\n",
              "    <tr>\n",
              "      <th>2019-09-04</th>\n",
              "      <td>2.796339</td>\n",
              "    </tr>\n",
              "    <tr>\n",
              "      <th>2019-09-05</th>\n",
              "      <td>0.803337</td>\n",
              "    </tr>\n",
              "    <tr>\n",
              "      <th>2019-09-06</th>\n",
              "      <td>0.975155</td>\n",
              "    </tr>\n",
              "    <tr>\n",
              "      <th>2019-09-07</th>\n",
              "      <td>NaN</td>\n",
              "    </tr>\n",
              "    <tr>\n",
              "      <th>2019-09-08</th>\n",
              "      <td>NaN</td>\n",
              "    </tr>\n",
              "    <tr>\n",
              "      <th>2019-09-09</th>\n",
              "      <td>20.964092</td>\n",
              "    </tr>\n",
              "    <tr>\n",
              "      <th>2019-09-10</th>\n",
              "      <td>29.067541</td>\n",
              "    </tr>\n",
              "    <tr>\n",
              "      <th>2019-09-11</th>\n",
              "      <td>34.399895</td>\n",
              "    </tr>\n",
              "    <tr>\n",
              "      <th>2019-09-12</th>\n",
              "      <td>36.697054</td>\n",
              "    </tr>\n",
              "    <tr>\n",
              "      <th>2019-09-13</th>\n",
              "      <td>36.347701</td>\n",
              "    </tr>\n",
              "    <tr>\n",
              "      <th>2019-09-14</th>\n",
              "      <td>NaN</td>\n",
              "    </tr>\n",
              "    <tr>\n",
              "      <th>2019-09-15</th>\n",
              "      <td>NaN</td>\n",
              "    </tr>\n",
              "    <tr>\n",
              "      <th>2019-09-16</th>\n",
              "      <td>24.406477</td>\n",
              "    </tr>\n",
              "    <tr>\n",
              "      <th>2019-09-17</th>\n",
              "      <td>19.385784</td>\n",
              "    </tr>\n",
              "    <tr>\n",
              "      <th>2019-09-18</th>\n",
              "      <td>15.288665</td>\n",
              "    </tr>\n",
              "    <tr>\n",
              "      <th>2019-09-19</th>\n",
              "      <td>12.983163</td>\n",
              "    </tr>\n",
              "    <tr>\n",
              "      <th>2019-09-20</th>\n",
              "      <td>13.337320</td>\n",
              "    </tr>\n",
              "  </tbody>\n",
              "</table>\n",
              "</div>"
            ],
            "text/plain": [
              "                value\n",
              "time                 \n",
              "2019-08-19  18.468835\n",
              "2019-08-20  19.848830\n",
              "2019-08-21  19.920997\n",
              "2019-08-22  18.893590\n",
              "2019-08-23  16.974865\n",
              "2019-08-24        NaN\n",
              "2019-08-25        NaN\n",
              "2019-08-26   8.814028\n",
              "2019-08-27   7.175677\n",
              "2019-08-28   7.091136\n",
              "2019-08-29   8.150454\n",
              "2019-08-30   9.441207\n",
              "2019-08-31        NaN\n",
              "2019-09-01        NaN\n",
              "2019-09-02   7.862781\n",
              "2019-09-03   5.518901\n",
              "2019-09-04   2.796339\n",
              "2019-09-05   0.803337\n",
              "2019-09-06   0.975155\n",
              "2019-09-07        NaN\n",
              "2019-09-08        NaN\n",
              "2019-09-09  20.964092\n",
              "2019-09-10  29.067541\n",
              "2019-09-11  34.399895\n",
              "2019-09-12  36.697054\n",
              "2019-09-13  36.347701\n",
              "2019-09-14        NaN\n",
              "2019-09-15        NaN\n",
              "2019-09-16  24.406477\n",
              "2019-09-17  19.385784\n",
              "2019-09-18  15.288665\n",
              "2019-09-19  12.983163\n",
              "2019-09-20  13.337320"
            ]
          },
          "metadata": {
            "tags": []
          },
          "execution_count": 11
        }
      ]
    },
    {
      "cell_type": "code",
      "metadata": {
        "id": "4u6oShIZ0Cmp",
        "colab_type": "code",
        "colab": {}
      },
      "source": [
        "df_submit = pd.concat([min_series, max_series, start_series, end_series], axis = 1)\n",
        "df_submit.columns = [\"min\", \"max\", \"starting\", \"ending\"]\n"
      ],
      "execution_count": 0,
      "outputs": []
    },
    {
      "cell_type": "code",
      "metadata": {
        "id": "lOqU2v5l5Xy0",
        "colab_type": "code",
        "colab": {
          "base_uri": "https://localhost:8080/",
          "height": 36
        },
        "outputId": "0fa30850-4633-4d43-89cc-affc30b04af2"
      },
      "source": [
        "df_submit.shape"
      ],
      "execution_count": 13,
      "outputs": [
        {
          "output_type": "execute_result",
          "data": {
            "text/plain": [
              "(33, 4)"
            ]
          },
          "metadata": {
            "tags": []
          },
          "execution_count": 13
        }
      ]
    },
    {
      "cell_type": "code",
      "metadata": {
        "id": "uOgyVsCY89aP",
        "colab_type": "code",
        "colab": {
          "base_uri": "https://localhost:8080/",
          "height": 237
        },
        "outputId": "c4e8226a-8870-4d7c-b7b5-c0044f33fbbb"
      },
      "source": [
        "df_submit.head()"
      ],
      "execution_count": 14,
      "outputs": [
        {
          "output_type": "execute_result",
          "data": {
            "text/html": [
              "<div>\n",
              "<style scoped>\n",
              "    .dataframe tbody tr th:only-of-type {\n",
              "        vertical-align: middle;\n",
              "    }\n",
              "\n",
              "    .dataframe tbody tr th {\n",
              "        vertical-align: top;\n",
              "    }\n",
              "\n",
              "    .dataframe thead th {\n",
              "        text-align: right;\n",
              "    }\n",
              "</style>\n",
              "<table border=\"1\" class=\"dataframe\">\n",
              "  <thead>\n",
              "    <tr style=\"text-align: right;\">\n",
              "      <th></th>\n",
              "      <th>min</th>\n",
              "      <th>max</th>\n",
              "      <th>starting</th>\n",
              "      <th>ending</th>\n",
              "    </tr>\n",
              "    <tr>\n",
              "      <th>time</th>\n",
              "      <th></th>\n",
              "      <th></th>\n",
              "      <th></th>\n",
              "      <th></th>\n",
              "    </tr>\n",
              "  </thead>\n",
              "  <tbody>\n",
              "    <tr>\n",
              "      <th>2019-08-19</th>\n",
              "      <td>17.573522</td>\n",
              "      <td>18.468835</td>\n",
              "      <td>17.573522</td>\n",
              "      <td>18.468835</td>\n",
              "    </tr>\n",
              "    <tr>\n",
              "      <th>2019-08-20</th>\n",
              "      <td>19.496609</td>\n",
              "      <td>19.848830</td>\n",
              "      <td>19.496609</td>\n",
              "      <td>19.848830</td>\n",
              "    </tr>\n",
              "    <tr>\n",
              "      <th>2019-08-21</th>\n",
              "      <td>19.920997</td>\n",
              "      <td>20.033917</td>\n",
              "      <td>20.033917</td>\n",
              "      <td>19.920997</td>\n",
              "    </tr>\n",
              "    <tr>\n",
              "      <th>2019-08-22</th>\n",
              "      <td>18.893590</td>\n",
              "      <td>19.393700</td>\n",
              "      <td>19.393700</td>\n",
              "      <td>18.893590</td>\n",
              "    </tr>\n",
              "    <tr>\n",
              "      <th>2019-08-23</th>\n",
              "      <td>16.974865</td>\n",
              "      <td>17.784213</td>\n",
              "      <td>17.784213</td>\n",
              "      <td>16.974865</td>\n",
              "    </tr>\n",
              "  </tbody>\n",
              "</table>\n",
              "</div>"
            ],
            "text/plain": [
              "                  min        max   starting     ending\n",
              "time                                                  \n",
              "2019-08-19  17.573522  18.468835  17.573522  18.468835\n",
              "2019-08-20  19.496609  19.848830  19.496609  19.848830\n",
              "2019-08-21  19.920997  20.033917  20.033917  19.920997\n",
              "2019-08-22  18.893590  19.393700  19.393700  18.893590\n",
              "2019-08-23  16.974865  17.784213  17.784213  16.974865"
            ]
          },
          "metadata": {
            "tags": []
          },
          "execution_count": 14
        }
      ]
    },
    {
      "cell_type": "code",
      "metadata": {
        "id": "zzsuMEn55nwA",
        "colab_type": "code",
        "colab": {}
      },
      "source": [
        "df_submit.drop(pd.Timestamp(\"2019-08-24\"), axis = 0, inplace = True)\n"
      ],
      "execution_count": 0,
      "outputs": []
    },
    {
      "cell_type": "code",
      "metadata": {
        "id": "CIJklMms6fjS",
        "colab_type": "code",
        "colab": {}
      },
      "source": [
        "df_submit.drop(pd.Timestamp(\"2019-08-25\"), axis = 0, inplace = True)\n"
      ],
      "execution_count": 0,
      "outputs": []
    },
    {
      "cell_type": "code",
      "metadata": {
        "id": "Mm5ptHin6k_Q",
        "colab_type": "code",
        "colab": {}
      },
      "source": [
        "df_submit.drop(pd.Timestamp(\"2019-08-31\"), axis = 0, inplace = True)\n",
        "df_submit.drop(pd.Timestamp(\"2019-09-01\"), axis = 0, inplace = True)\n",
        "df_submit.drop(pd.Timestamp(\"2019-09-07\"), axis = 0, inplace = True)\n",
        "df_submit.drop(pd.Timestamp(\"2019-09-08\"), axis = 0, inplace = True)\n",
        "df_submit.drop(pd.Timestamp(\"2019-09-14\"), axis = 0, inplace = True)\n",
        "df_submit.drop(pd.Timestamp(\"2019-09-15\"), axis = 0, inplace = True)"
      ],
      "execution_count": 0,
      "outputs": []
    },
    {
      "cell_type": "code",
      "metadata": {
        "id": "sTSy8zJ16EQH",
        "colab_type": "code",
        "colab": {}
      },
      "source": [
        "df_submit.index.rename(\"date\", inplace = True)"
      ],
      "execution_count": 0,
      "outputs": []
    },
    {
      "cell_type": "code",
      "metadata": {
        "id": "YdwJi3A67yCr",
        "colab_type": "code",
        "colab": {}
      },
      "source": [
        "df_submit.reset_index(level=0, inplace=True)"
      ],
      "execution_count": 0,
      "outputs": []
    },
    {
      "cell_type": "code",
      "metadata": {
        "id": "K9v2U_2g7ZL5",
        "colab_type": "code",
        "colab": {
          "base_uri": "https://localhost:8080/",
          "height": 206
        },
        "outputId": "185285ea-d930-4bc2-8e0e-583819cd609e"
      },
      "source": [
        "df_submit[:5]"
      ],
      "execution_count": 20,
      "outputs": [
        {
          "output_type": "execute_result",
          "data": {
            "text/html": [
              "<div>\n",
              "<style scoped>\n",
              "    .dataframe tbody tr th:only-of-type {\n",
              "        vertical-align: middle;\n",
              "    }\n",
              "\n",
              "    .dataframe tbody tr th {\n",
              "        vertical-align: top;\n",
              "    }\n",
              "\n",
              "    .dataframe thead th {\n",
              "        text-align: right;\n",
              "    }\n",
              "</style>\n",
              "<table border=\"1\" class=\"dataframe\">\n",
              "  <thead>\n",
              "    <tr style=\"text-align: right;\">\n",
              "      <th></th>\n",
              "      <th>date</th>\n",
              "      <th>min</th>\n",
              "      <th>max</th>\n",
              "      <th>starting</th>\n",
              "      <th>ending</th>\n",
              "    </tr>\n",
              "  </thead>\n",
              "  <tbody>\n",
              "    <tr>\n",
              "      <th>0</th>\n",
              "      <td>2019-08-19</td>\n",
              "      <td>17.573522</td>\n",
              "      <td>18.468835</td>\n",
              "      <td>17.573522</td>\n",
              "      <td>18.468835</td>\n",
              "    </tr>\n",
              "    <tr>\n",
              "      <th>1</th>\n",
              "      <td>2019-08-20</td>\n",
              "      <td>19.496609</td>\n",
              "      <td>19.848830</td>\n",
              "      <td>19.496609</td>\n",
              "      <td>19.848830</td>\n",
              "    </tr>\n",
              "    <tr>\n",
              "      <th>2</th>\n",
              "      <td>2019-08-21</td>\n",
              "      <td>19.920997</td>\n",
              "      <td>20.033917</td>\n",
              "      <td>20.033917</td>\n",
              "      <td>19.920997</td>\n",
              "    </tr>\n",
              "    <tr>\n",
              "      <th>3</th>\n",
              "      <td>2019-08-22</td>\n",
              "      <td>18.893590</td>\n",
              "      <td>19.393700</td>\n",
              "      <td>19.393700</td>\n",
              "      <td>18.893590</td>\n",
              "    </tr>\n",
              "    <tr>\n",
              "      <th>4</th>\n",
              "      <td>2019-08-23</td>\n",
              "      <td>16.974865</td>\n",
              "      <td>17.784213</td>\n",
              "      <td>17.784213</td>\n",
              "      <td>16.974865</td>\n",
              "    </tr>\n",
              "  </tbody>\n",
              "</table>\n",
              "</div>"
            ],
            "text/plain": [
              "        date        min        max   starting     ending\n",
              "0 2019-08-19  17.573522  18.468835  17.573522  18.468835\n",
              "1 2019-08-20  19.496609  19.848830  19.496609  19.848830\n",
              "2 2019-08-21  19.920997  20.033917  20.033917  19.920997\n",
              "3 2019-08-22  18.893590  19.393700  19.393700  18.893590\n",
              "4 2019-08-23  16.974865  17.784213  17.784213  16.974865"
            ]
          },
          "metadata": {
            "tags": []
          },
          "execution_count": 20
        }
      ]
    },
    {
      "cell_type": "markdown",
      "metadata": {
        "collapsed": true,
        "id": "2d7Bhlp2jjRE",
        "colab_type": "text"
      },
      "source": [
        "# Assignment #3 Sample Code\n",
        "\n",
        "The following code provides a starting point for this assignment."
      ]
    },
    {
      "cell_type": "code",
      "metadata": {
        "id": "cSHMiwEtjjRI",
        "colab_type": "code",
        "colab": {
          "base_uri": "https://localhost:8080/",
          "height": 73
        },
        "outputId": "f9ac589f-74a5-4d2d-efba-28f72fd131d5"
      },
      "source": [
        "import os\n",
        "import pandas as pd\n",
        "from scipy.stats import zscore\n",
        "\n",
        "# This is your student key that I emailed to you at the beginnning of the semester.\n",
        "key = \"4ELU3949Wc96YNTZAOW9s2dWbOmBHgQ2a5x9EqEh\"  # This is an example key and will not work.\n",
        "\n",
        "# You must also identify your source file.  (modify for your local setup)\n",
        "# file='/content/drive/My Drive/Colab Notebooks/assignment_yourname_class3.ipynb'  # Google CoLab\n",
        "# file='C:\\\\Users\\\\jeffh\\\\projects\\\\t81_558_deep_learning\\\\assignments\\\\assignment_yourname_class3.ipynb'  # Windows\n",
        "file='/content/drive/My Drive/Colab Notebooks/Washinton_University_Applications_Deep_Neural_Networks/Assignments/Applications_of_DNNs_Assignment_AlexNedyalkov_class3.ipynb'  # Mac/Linux\n",
        "\n",
        "\n",
        "\n",
        "\n",
        "# Submit\n",
        "submit(source_file=file,data=df_submit,key=key,no=3)"
      ],
      "execution_count": 21,
      "outputs": [
        {
          "output_type": "stream",
          "text": [
            "Success: Submitted Assignment 3 for alexander-nedyalkov:\n",
            "You have submitted this assignment 6 times. (this is fine)\n",
            "No warnings on your data. You will probably do well, but no guarantee. :-)\n"
          ],
          "name": "stdout"
        }
      ]
    },
    {
      "cell_type": "code",
      "metadata": {
        "id": "T4apeLFwjjRV",
        "colab_type": "code",
        "colab": {}
      },
      "source": [
        ""
      ],
      "execution_count": 0,
      "outputs": []
    },
    {
      "cell_type": "code",
      "metadata": {
        "id": "xT3qWxX8jjRe",
        "colab_type": "code",
        "colab": {}
      },
      "source": [
        ""
      ],
      "execution_count": 0,
      "outputs": []
    }
  ]
}