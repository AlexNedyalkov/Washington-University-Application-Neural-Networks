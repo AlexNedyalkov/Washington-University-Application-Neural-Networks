{
  "nbformat": 4,
  "nbformat_minor": 0,
  "metadata": {
    "colab": {
      "name": "Module_4.3_Practice_Regression_with_RMSE.ipynb",
      "provenance": [],
      "collapsed_sections": [],
      "authorship_tag": "ABX9TyNvo+FUWe50S6mNXDfb/2qw",
      "include_colab_link": true
    },
    "kernelspec": {
      "name": "python3",
      "display_name": "Python 3"
    }
  },
  "cells": [
    {
      "cell_type": "markdown",
      "metadata": {
        "id": "view-in-github",
        "colab_type": "text"
      },
      "source": [
        "<a href=\"https://colab.research.google.com/github/AlexNedyalkov/Washington-University-Application-Neural-Networks/blob/master/Module_4_3_Practice_Regression_with_RMSE.ipynb\" target=\"_parent\"><img src=\"https://colab.research.google.com/assets/colab-badge.svg\" alt=\"Open In Colab\"/></a>"
      ]
    },
    {
      "cell_type": "code",
      "metadata": {
        "id": "Ad-zIjBLncTg",
        "colab_type": "code",
        "colab": {
          "base_uri": "https://localhost:8080/",
          "height": 36
        },
        "outputId": "50cea144-1755-456f-c126-4ff2143c7226"
      },
      "source": [
        "try:\n",
        "    %tensorflow_version 2.x\n",
        "    COLAB = True\n",
        "    print(\"Note: using Google CoLab\")\n",
        "except:\n",
        "    print(\"Note: not using Google CoLab\")\n",
        "    COLAB = False"
      ],
      "execution_count": 2,
      "outputs": [
        {
          "output_type": "stream",
          "text": [
            "Note: using Google CoLab\n"
          ],
          "name": "stdout"
        }
      ]
    },
    {
      "cell_type": "code",
      "metadata": {
        "id": "lecyfquUok_W",
        "colab_type": "code",
        "colab": {}
      },
      "source": [
        "import pandas as pd\n",
        "from scipy.stats import zscore\n",
        "from sklearn.model_selection import train_test_split\n",
        "import matplotlib.pyplot as plt\n"
      ],
      "execution_count": 0,
      "outputs": []
    },
    {
      "cell_type": "code",
      "metadata": {
        "id": "Rp58Lox-ompQ",
        "colab_type": "code",
        "colab": {}
      },
      "source": [
        "df = pd.read_csv(\"https://data.heatonresearch.com/data/t81-558/jh-simple-dataset.csv\", na_values=[\"?\", \"NA\"])"
      ],
      "execution_count": 0,
      "outputs": []
    },
    {
      "cell_type": "code",
      "metadata": {
        "id": "1yNIldtUo3s7",
        "colab_type": "code",
        "colab": {
          "base_uri": "https://localhost:8080/",
          "height": 206
        },
        "outputId": "c186587d-da6c-4009-ca76-403487185416"
      },
      "source": [
        "df.head()"
      ],
      "execution_count": 5,
      "outputs": [
        {
          "output_type": "execute_result",
          "data": {
            "text/html": [
              "<div>\n",
              "<style scoped>\n",
              "    .dataframe tbody tr th:only-of-type {\n",
              "        vertical-align: middle;\n",
              "    }\n",
              "\n",
              "    .dataframe tbody tr th {\n",
              "        vertical-align: top;\n",
              "    }\n",
              "\n",
              "    .dataframe thead th {\n",
              "        text-align: right;\n",
              "    }\n",
              "</style>\n",
              "<table border=\"1\" class=\"dataframe\">\n",
              "  <thead>\n",
              "    <tr style=\"text-align: right;\">\n",
              "      <th></th>\n",
              "      <th>id</th>\n",
              "      <th>job</th>\n",
              "      <th>area</th>\n",
              "      <th>income</th>\n",
              "      <th>aspect</th>\n",
              "      <th>subscriptions</th>\n",
              "      <th>dist_healthy</th>\n",
              "      <th>save_rate</th>\n",
              "      <th>dist_unhealthy</th>\n",
              "      <th>age</th>\n",
              "      <th>pop_dense</th>\n",
              "      <th>retail_dense</th>\n",
              "      <th>crime</th>\n",
              "      <th>product</th>\n",
              "    </tr>\n",
              "  </thead>\n",
              "  <tbody>\n",
              "    <tr>\n",
              "      <th>0</th>\n",
              "      <td>1</td>\n",
              "      <td>vv</td>\n",
              "      <td>c</td>\n",
              "      <td>50876.0</td>\n",
              "      <td>13.100000</td>\n",
              "      <td>1</td>\n",
              "      <td>9.017895</td>\n",
              "      <td>35</td>\n",
              "      <td>11.738935</td>\n",
              "      <td>49</td>\n",
              "      <td>0.885827</td>\n",
              "      <td>0.492126</td>\n",
              "      <td>0.071100</td>\n",
              "      <td>b</td>\n",
              "    </tr>\n",
              "    <tr>\n",
              "      <th>1</th>\n",
              "      <td>2</td>\n",
              "      <td>kd</td>\n",
              "      <td>c</td>\n",
              "      <td>60369.0</td>\n",
              "      <td>18.625000</td>\n",
              "      <td>2</td>\n",
              "      <td>7.766643</td>\n",
              "      <td>59</td>\n",
              "      <td>6.805396</td>\n",
              "      <td>51</td>\n",
              "      <td>0.874016</td>\n",
              "      <td>0.342520</td>\n",
              "      <td>0.400809</td>\n",
              "      <td>c</td>\n",
              "    </tr>\n",
              "    <tr>\n",
              "      <th>2</th>\n",
              "      <td>3</td>\n",
              "      <td>pe</td>\n",
              "      <td>c</td>\n",
              "      <td>55126.0</td>\n",
              "      <td>34.766667</td>\n",
              "      <td>1</td>\n",
              "      <td>3.632069</td>\n",
              "      <td>6</td>\n",
              "      <td>13.671772</td>\n",
              "      <td>44</td>\n",
              "      <td>0.944882</td>\n",
              "      <td>0.724409</td>\n",
              "      <td>0.207723</td>\n",
              "      <td>b</td>\n",
              "    </tr>\n",
              "    <tr>\n",
              "      <th>3</th>\n",
              "      <td>4</td>\n",
              "      <td>11</td>\n",
              "      <td>c</td>\n",
              "      <td>51690.0</td>\n",
              "      <td>15.808333</td>\n",
              "      <td>1</td>\n",
              "      <td>5.372942</td>\n",
              "      <td>16</td>\n",
              "      <td>4.333286</td>\n",
              "      <td>50</td>\n",
              "      <td>0.889764</td>\n",
              "      <td>0.444882</td>\n",
              "      <td>0.361216</td>\n",
              "      <td>b</td>\n",
              "    </tr>\n",
              "    <tr>\n",
              "      <th>4</th>\n",
              "      <td>5</td>\n",
              "      <td>kl</td>\n",
              "      <td>d</td>\n",
              "      <td>28347.0</td>\n",
              "      <td>40.941667</td>\n",
              "      <td>3</td>\n",
              "      <td>3.822477</td>\n",
              "      <td>20</td>\n",
              "      <td>5.967121</td>\n",
              "      <td>38</td>\n",
              "      <td>0.744094</td>\n",
              "      <td>0.661417</td>\n",
              "      <td>0.068033</td>\n",
              "      <td>a</td>\n",
              "    </tr>\n",
              "  </tbody>\n",
              "</table>\n",
              "</div>"
            ],
            "text/plain": [
              "   id job area   income  ...  pop_dense  retail_dense     crime  product\n",
              "0   1  vv    c  50876.0  ...   0.885827      0.492126  0.071100        b\n",
              "1   2  kd    c  60369.0  ...   0.874016      0.342520  0.400809        c\n",
              "2   3  pe    c  55126.0  ...   0.944882      0.724409  0.207723        b\n",
              "3   4  11    c  51690.0  ...   0.889764      0.444882  0.361216        b\n",
              "4   5  kl    d  28347.0  ...   0.744094      0.661417  0.068033        a\n",
              "\n",
              "[5 rows x 14 columns]"
            ]
          },
          "metadata": {
            "tags": []
          },
          "execution_count": 5
        }
      ]
    },
    {
      "cell_type": "code",
      "metadata": {
        "id": "v2WYfk3Qo5rR",
        "colab_type": "code",
        "colab": {
          "base_uri": "https://localhost:8080/",
          "height": 36
        },
        "outputId": "22a7dc7f-2df3-4b35-96b8-1ca4b88813b3"
      },
      "source": [
        "df.shape"
      ],
      "execution_count": 6,
      "outputs": [
        {
          "output_type": "execute_result",
          "data": {
            "text/plain": [
              "(2000, 14)"
            ]
          },
          "metadata": {
            "tags": []
          },
          "execution_count": 6
        }
      ]
    },
    {
      "cell_type": "code",
      "metadata": {
        "id": "mrkTNTWepOJp",
        "colab_type": "code",
        "colab": {}
      },
      "source": [
        "df = pd.concat([df,pd.get_dummies(df['job'],prefix=\"job\")],axis=1)\n",
        "df.drop('job', axis=1, inplace=True)"
      ],
      "execution_count": 0,
      "outputs": []
    },
    {
      "cell_type": "code",
      "metadata": {
        "id": "lQ4eYycxpu4e",
        "colab_type": "code",
        "colab": {}
      },
      "source": [
        "df = pd.concat([df, pd.get_dummies(df.area, prefix = \"area\")], axis = 1)\n",
        "df.drop(\"area\", axis = 1, inplace = True)"
      ],
      "execution_count": 0,
      "outputs": []
    },
    {
      "cell_type": "code",
      "metadata": {
        "id": "6EQ74LoNwtjN",
        "colab_type": "code",
        "colab": {}
      },
      "source": [
        "# Generate dummies for product\n",
        "df = pd.concat([df,pd.get_dummies(df['product'],prefix=\"product\")],axis=1)\n",
        "df.drop('product', axis=1, inplace=True)"
      ],
      "execution_count": 0,
      "outputs": []
    },
    {
      "cell_type": "code",
      "metadata": {
        "id": "qg-JO2Oup98K",
        "colab_type": "code",
        "colab": {
          "base_uri": "https://localhost:8080/",
          "height": 36
        },
        "outputId": "1ba93cab-c528-466f-a618-bed25ebcda3c"
      },
      "source": [
        "df.shape"
      ],
      "execution_count": 11,
      "outputs": [
        {
          "output_type": "execute_result",
          "data": {
            "text/plain": [
              "(2000, 55)"
            ]
          },
          "metadata": {
            "tags": []
          },
          "execution_count": 11
        }
      ]
    },
    {
      "cell_type": "code",
      "metadata": {
        "id": "clwmljM5qCrG",
        "colab_type": "code",
        "colab": {}
      },
      "source": [
        "# Missing values for income\n",
        "med = df['income'].median()\n",
        "df['income'] = df['income'].fillna(med)"
      ],
      "execution_count": 0,
      "outputs": []
    },
    {
      "cell_type": "code",
      "metadata": {
        "id": "x2NRXXq0qs4R",
        "colab_type": "code",
        "colab": {
          "base_uri": "https://localhost:8080/",
          "height": 1000
        },
        "outputId": "96bf44a8-1ce8-496d-a1c4-3d0a47b68c54"
      },
      "source": [
        "df.isna().sum()"
      ],
      "execution_count": 13,
      "outputs": [
        {
          "output_type": "execute_result",
          "data": {
            "text/plain": [
              "id                0\n",
              "income            0\n",
              "aspect            0\n",
              "subscriptions     0\n",
              "dist_healthy      0\n",
              "save_rate         0\n",
              "dist_unhealthy    0\n",
              "age               0\n",
              "pop_dense         0\n",
              "retail_dense      0\n",
              "crime             0\n",
              "job_11            0\n",
              "job_al            0\n",
              "job_am            0\n",
              "job_ax            0\n",
              "job_bf            0\n",
              "job_by            0\n",
              "job_cv            0\n",
              "job_de            0\n",
              "job_dz            0\n",
              "job_e2            0\n",
              "job_f8            0\n",
              "job_gj            0\n",
              "job_gv            0\n",
              "job_kd            0\n",
              "job_ke            0\n",
              "job_kl            0\n",
              "job_kp            0\n",
              "job_ks            0\n",
              "job_kw            0\n",
              "job_mm            0\n",
              "job_nb            0\n",
              "job_nn            0\n",
              "job_ob            0\n",
              "job_pe            0\n",
              "job_po            0\n",
              "job_pq            0\n",
              "job_pz            0\n",
              "job_qp            0\n",
              "job_qw            0\n",
              "job_rn            0\n",
              "job_sa            0\n",
              "job_vv            0\n",
              "job_zz            0\n",
              "area_a            0\n",
              "area_b            0\n",
              "area_c            0\n",
              "area_d            0\n",
              "product_a         0\n",
              "product_b         0\n",
              "product_c         0\n",
              "product_d         0\n",
              "product_e         0\n",
              "product_f         0\n",
              "product_g         0\n",
              "dtype: int64"
            ]
          },
          "metadata": {
            "tags": []
          },
          "execution_count": 13
        }
      ]
    },
    {
      "cell_type": "code",
      "metadata": {
        "id": "oDBfcia0q0QU",
        "colab_type": "code",
        "colab": {}
      },
      "source": [
        "# Standardize ranges\n",
        "df['income'] = zscore(df['income'])\n",
        "df['aspect'] = zscore(df['aspect'])\n",
        "df['save_rate'] = zscore(df['save_rate'])\n",
        "df['subscriptions'] = zscore(df['subscriptions'])"
      ],
      "execution_count": 0,
      "outputs": []
    },
    {
      "cell_type": "code",
      "metadata": {
        "id": "GDxdkA9Kq5P-",
        "colab_type": "code",
        "colab": {}
      },
      "source": [
        "# Convert to numpy - Classification\n",
        "x_columns = df.columns.drop(\"age\").drop(\"id\")\n",
        "x = df[x_columns].values\n",
        "y = df[\"age\"].values\n"
      ],
      "execution_count": 0,
      "outputs": []
    },
    {
      "cell_type": "code",
      "metadata": {
        "id": "7CxwzsNBrQRe",
        "colab_type": "code",
        "colab": {}
      },
      "source": [
        "# Create train/test\n",
        "x_train, x_test, y_train, y_test = train_test_split(    \n",
        "    x, y, test_size=0.25, random_state=42)"
      ],
      "execution_count": 0,
      "outputs": []
    },
    {
      "cell_type": "code",
      "metadata": {
        "id": "O8BUDDp2vM-t",
        "colab_type": "code",
        "colab": {
          "base_uri": "https://localhost:8080/",
          "height": 578
        },
        "outputId": "5d1c80b8-7c0f-44ee-bd88-47bf439318d5"
      },
      "source": [
        "y_test"
      ],
      "execution_count": 21,
      "outputs": [
        {
          "output_type": "execute_result",
          "data": {
            "text/plain": [
              "array([50, 36, 48, 48, 45, 44, 45, 43, 47, 49, 42, 50, 48, 49, 48, 48, 41,\n",
              "       43, 45, 47, 50, 50, 46, 36, 36, 32, 49, 40, 47, 49, 45, 46, 50, 49,\n",
              "       49, 41, 40, 49, 49, 50, 47, 48, 50, 48, 46, 44, 48, 48, 47, 37, 46,\n",
              "       45, 46, 42, 48, 50, 48, 39, 48, 49, 47, 47, 45, 44, 46, 49, 48, 39,\n",
              "       44, 47, 49, 41, 51, 39, 45, 48, 44, 49, 49, 47, 47, 39, 49, 41, 48,\n",
              "       50, 47, 49, 48, 45, 43, 48, 43, 47, 49, 46, 50, 51, 49, 46, 50, 46,\n",
              "       43, 46, 50, 47, 41, 46, 47, 48, 44, 45, 49, 47, 46, 47, 48, 41, 45,\n",
              "       47, 49, 41, 45, 43, 45, 39, 50, 45, 49, 49, 49, 49, 40, 48, 50, 51,\n",
              "       46, 47, 45, 43, 50, 49, 47, 49, 48, 47, 46, 45, 48, 47, 39, 47, 39,\n",
              "       49, 41, 43, 48, 45, 40, 48, 41, 48, 45, 50, 51, 44, 47, 47, 45, 47,\n",
              "       47, 44, 50, 45, 50, 44, 46, 46, 43, 48, 47, 47, 43, 47, 50, 50, 43,\n",
              "       43, 45, 50, 41, 36, 44, 49, 50, 41, 44, 47, 47, 47, 46, 46, 32, 50,\n",
              "       45, 49, 45, 45, 44, 47, 50, 45, 51, 46, 45, 49, 48, 41, 49, 47, 46,\n",
              "       46, 46, 37, 51, 50, 46, 49, 47, 48, 46, 50, 49, 47, 50, 44, 45, 44,\n",
              "       48, 48, 48, 45, 47, 44, 48, 42, 42, 49, 51, 47, 46, 46, 29, 47, 45,\n",
              "       47, 39, 37, 47, 46, 49, 50, 49, 37, 47, 51, 51, 37, 45, 48, 46, 47,\n",
              "       44, 43, 49, 49, 46, 48, 47, 44, 38, 48, 38, 48, 48, 47, 49, 46, 44,\n",
              "       50, 43, 49, 41, 48, 44, 50, 48, 39, 42, 41, 47, 44, 50, 46, 44, 47,\n",
              "       42, 47, 42, 46, 46, 43, 41, 47, 49, 47, 44, 41, 42, 45, 37, 48, 45,\n",
              "       44, 49, 49, 36, 47, 45, 47, 46, 45, 45, 50, 46, 41, 43, 37, 40, 41,\n",
              "       48, 36, 50, 48, 47, 39, 40, 48, 47, 47, 50, 48, 47, 46, 47, 42, 51,\n",
              "       47, 45, 43, 41, 50, 47, 45, 45, 52, 50, 45, 51, 43, 46, 52, 45, 37,\n",
              "       44, 44, 48, 42, 40, 44, 51, 43, 44, 40, 47, 47, 40, 50, 49, 47, 48,\n",
              "       46, 43, 33, 51, 41, 51, 47, 43, 47, 36, 50, 50, 42, 42, 43, 46, 44,\n",
              "       47, 47, 44, 48, 46, 45, 43, 42, 35, 43, 48, 46, 49, 49, 41, 49, 49,\n",
              "       45, 48, 47, 44, 46, 47, 48, 46, 47, 42, 50, 51, 47, 44, 38, 46, 50,\n",
              "       43, 43, 48, 40, 46, 48, 50, 48, 37, 47, 44, 50, 43, 50, 44, 50, 47,\n",
              "       51, 51, 46, 45, 46, 48, 43, 44, 45, 46, 43, 46, 49, 43, 48, 46, 48,\n",
              "       44, 47, 47, 45, 39, 49, 39, 50, 49, 35, 32, 38, 43, 41, 47, 48, 51,\n",
              "       48, 44, 48, 50, 37, 46, 50])"
            ]
          },
          "metadata": {
            "tags": []
          },
          "execution_count": 21
        }
      ]
    },
    {
      "cell_type": "code",
      "metadata": {
        "id": "ADPrbulprYwd",
        "colab_type": "code",
        "colab": {}
      },
      "source": [
        "from tensorflow.keras.models import Sequential\n",
        "from tensorflow.keras.layers import Dense, Activation\n",
        "from tensorflow.keras.callbacks import EarlyStopping\n",
        "from tensorflow.keras.optimizers import Adam\n",
        "from tensorflow.keras.losses import mean_squared_error"
      ],
      "execution_count": 0,
      "outputs": []
    },
    {
      "cell_type": "code",
      "metadata": {
        "id": "ssuOvpNqrZg8",
        "colab_type": "code",
        "colab": {
          "base_uri": "https://localhost:8080/",
          "height": 1000
        },
        "outputId": "0afd00f3-439e-4da9-b158-85eabfbcdc7e"
      },
      "source": [
        "# Build the neural network\n",
        "model = Sequential()\n",
        "model.add(Dense(25, input_dim=x.shape[1], activation='relu')) # Hidden 1\n",
        "model.add(Dense(10, activation='relu')) # Hidden 2\n",
        "model.add(Dense(1)) # Output\n",
        "model.compile(loss='mean_squared_error', optimizer='adam')\n",
        "monitor = EarlyStopping(monitor='val_loss', min_delta=1e-3, \n",
        "                        patience=5, verbose=1, mode='auto', restore_best_weights=True)\n",
        "model.fit(x_train,y_train,validation_data=(x_test,y_test),callbacks=[monitor],verbose=2,epochs=1000)\n"
      ],
      "execution_count": 18,
      "outputs": [
        {
          "output_type": "stream",
          "text": [
            "Train on 1500 samples, validate on 500 samples\n",
            "Epoch 1/1000\n",
            "1500/1500 - 1s - loss: 1935.9205 - val_loss: 1540.0952\n",
            "Epoch 2/1000\n",
            "1500/1500 - 0s - loss: 1231.3743 - val_loss: 816.4365\n",
            "Epoch 3/1000\n",
            "1500/1500 - 0s - loss: 527.0290 - val_loss: 303.4942\n",
            "Epoch 4/1000\n",
            "1500/1500 - 0s - loss: 288.8759 - val_loss: 254.7164\n",
            "Epoch 5/1000\n",
            "1500/1500 - 0s - loss: 242.1568 - val_loss: 212.5666\n",
            "Epoch 6/1000\n",
            "1500/1500 - 0s - loss: 192.9782 - val_loss: 167.4276\n",
            "Epoch 7/1000\n",
            "1500/1500 - 0s - loss: 147.1867 - val_loss: 128.8638\n",
            "Epoch 8/1000\n",
            "1500/1500 - 0s - loss: 112.5505 - val_loss: 100.9249\n",
            "Epoch 9/1000\n",
            "1500/1500 - 0s - loss: 88.1546 - val_loss: 81.3721\n",
            "Epoch 10/1000\n",
            "1500/1500 - 0s - loss: 70.8224 - val_loss: 67.0403\n",
            "Epoch 11/1000\n",
            "1500/1500 - 0s - loss: 57.6602 - val_loss: 55.6268\n",
            "Epoch 12/1000\n",
            "1500/1500 - 0s - loss: 47.6407 - val_loss: 47.3840\n",
            "Epoch 13/1000\n",
            "1500/1500 - 0s - loss: 40.0567 - val_loss: 40.4676\n",
            "Epoch 14/1000\n",
            "1500/1500 - 0s - loss: 33.9067 - val_loss: 35.6501\n",
            "Epoch 15/1000\n",
            "1500/1500 - 0s - loss: 29.1271 - val_loss: 30.8412\n",
            "Epoch 16/1000\n",
            "1500/1500 - 0s - loss: 25.2991 - val_loss: 27.2347\n",
            "Epoch 17/1000\n",
            "1500/1500 - 0s - loss: 22.3057 - val_loss: 24.4947\n",
            "Epoch 18/1000\n",
            "1500/1500 - 0s - loss: 19.9900 - val_loss: 22.1485\n",
            "Epoch 19/1000\n",
            "1500/1500 - 0s - loss: 18.0364 - val_loss: 20.1170\n",
            "Epoch 20/1000\n",
            "1500/1500 - 0s - loss: 16.6141 - val_loss: 18.5632\n",
            "Epoch 21/1000\n",
            "1500/1500 - 0s - loss: 15.4667 - val_loss: 17.3521\n",
            "Epoch 22/1000\n",
            "1500/1500 - 0s - loss: 14.4363 - val_loss: 16.1886\n",
            "Epoch 23/1000\n",
            "1500/1500 - 0s - loss: 13.8947 - val_loss: 15.4652\n",
            "Epoch 24/1000\n",
            "1500/1500 - 0s - loss: 13.0473 - val_loss: 14.5402\n",
            "Epoch 25/1000\n",
            "1500/1500 - 0s - loss: 12.4987 - val_loss: 13.8379\n",
            "Epoch 26/1000\n",
            "1500/1500 - 0s - loss: 11.9965 - val_loss: 13.2647\n",
            "Epoch 27/1000\n",
            "1500/1500 - 0s - loss: 11.5589 - val_loss: 12.7340\n",
            "Epoch 28/1000\n",
            "1500/1500 - 0s - loss: 11.1307 - val_loss: 12.2239\n",
            "Epoch 29/1000\n",
            "1500/1500 - 0s - loss: 10.9009 - val_loss: 11.8679\n",
            "Epoch 30/1000\n",
            "1500/1500 - 0s - loss: 10.5286 - val_loss: 11.4483\n",
            "Epoch 31/1000\n",
            "1500/1500 - 0s - loss: 10.1571 - val_loss: 11.0398\n",
            "Epoch 32/1000\n",
            "1500/1500 - 0s - loss: 9.7673 - val_loss: 10.7069\n",
            "Epoch 33/1000\n",
            "1500/1500 - 0s - loss: 9.4352 - val_loss: 10.2253\n",
            "Epoch 34/1000\n",
            "1500/1500 - 0s - loss: 9.2413 - val_loss: 9.8345\n",
            "Epoch 35/1000\n",
            "1500/1500 - 0s - loss: 8.7417 - val_loss: 9.5078\n",
            "Epoch 36/1000\n",
            "1500/1500 - 0s - loss: 8.5454 - val_loss: 9.1729\n",
            "Epoch 37/1000\n",
            "1500/1500 - 0s - loss: 8.1408 - val_loss: 8.8350\n",
            "Epoch 38/1000\n",
            "1500/1500 - 0s - loss: 7.7915 - val_loss: 8.5866\n",
            "Epoch 39/1000\n",
            "1500/1500 - 0s - loss: 7.5078 - val_loss: 8.3393\n",
            "Epoch 40/1000\n",
            "1500/1500 - 0s - loss: 7.1884 - val_loss: 8.0189\n",
            "Epoch 41/1000\n",
            "1500/1500 - 0s - loss: 6.9569 - val_loss: 7.6049\n",
            "Epoch 42/1000\n",
            "1500/1500 - 0s - loss: 6.5927 - val_loss: 7.2630\n",
            "Epoch 43/1000\n",
            "1500/1500 - 0s - loss: 6.3291 - val_loss: 6.8227\n",
            "Epoch 44/1000\n",
            "1500/1500 - 0s - loss: 6.0272 - val_loss: 6.4953\n",
            "Epoch 45/1000\n",
            "1500/1500 - 0s - loss: 5.7100 - val_loss: 6.0754\n",
            "Epoch 46/1000\n",
            "1500/1500 - 0s - loss: 5.4213 - val_loss: 5.7082\n",
            "Epoch 47/1000\n",
            "1500/1500 - 0s - loss: 5.0730 - val_loss: 5.4263\n",
            "Epoch 48/1000\n",
            "1500/1500 - 0s - loss: 4.8290 - val_loss: 5.1167\n",
            "Epoch 49/1000\n",
            "1500/1500 - 0s - loss: 4.5993 - val_loss: 4.8717\n",
            "Epoch 50/1000\n",
            "1500/1500 - 0s - loss: 4.2854 - val_loss: 4.5855\n",
            "Epoch 51/1000\n",
            "1500/1500 - 0s - loss: 4.0189 - val_loss: 4.5048\n",
            "Epoch 52/1000\n",
            "1500/1500 - 0s - loss: 3.8848 - val_loss: 4.1184\n",
            "Epoch 53/1000\n",
            "1500/1500 - 0s - loss: 3.6370 - val_loss: 3.9328\n",
            "Epoch 54/1000\n",
            "1500/1500 - 0s - loss: 3.4429 - val_loss: 3.7696\n",
            "Epoch 55/1000\n",
            "1500/1500 - 0s - loss: 3.2798 - val_loss: 3.5657\n",
            "Epoch 56/1000\n",
            "1500/1500 - 0s - loss: 3.0612 - val_loss: 3.3507\n",
            "Epoch 57/1000\n",
            "1500/1500 - 0s - loss: 2.9240 - val_loss: 3.2523\n",
            "Epoch 58/1000\n",
            "1500/1500 - 0s - loss: 2.7429 - val_loss: 3.0924\n",
            "Epoch 59/1000\n",
            "1500/1500 - 0s - loss: 2.6371 - val_loss: 2.9235\n",
            "Epoch 60/1000\n",
            "1500/1500 - 0s - loss: 2.4656 - val_loss: 2.7494\n",
            "Epoch 61/1000\n",
            "1500/1500 - 0s - loss: 2.3375 - val_loss: 2.8000\n",
            "Epoch 62/1000\n",
            "1500/1500 - 0s - loss: 2.2122 - val_loss: 2.4957\n",
            "Epoch 63/1000\n",
            "1500/1500 - 0s - loss: 2.0904 - val_loss: 2.3758\n",
            "Epoch 64/1000\n",
            "1500/1500 - 0s - loss: 2.0507 - val_loss: 2.2486\n",
            "Epoch 65/1000\n",
            "1500/1500 - 0s - loss: 1.9279 - val_loss: 2.1716\n",
            "Epoch 66/1000\n",
            "1500/1500 - 0s - loss: 1.7879 - val_loss: 2.0481\n",
            "Epoch 67/1000\n",
            "1500/1500 - 0s - loss: 1.7055 - val_loss: 1.9382\n",
            "Epoch 68/1000\n",
            "1500/1500 - 0s - loss: 1.6368 - val_loss: 1.9199\n",
            "Epoch 69/1000\n",
            "1500/1500 - 0s - loss: 1.6029 - val_loss: 1.7907\n",
            "Epoch 70/1000\n",
            "1500/1500 - 0s - loss: 1.4775 - val_loss: 1.7090\n",
            "Epoch 71/1000\n",
            "1500/1500 - 0s - loss: 1.4149 - val_loss: 1.6343\n",
            "Epoch 72/1000\n",
            "1500/1500 - 0s - loss: 1.3552 - val_loss: 1.5527\n",
            "Epoch 73/1000\n",
            "1500/1500 - 0s - loss: 1.2936 - val_loss: 1.5078\n",
            "Epoch 74/1000\n",
            "1500/1500 - 0s - loss: 1.2153 - val_loss: 1.4438\n",
            "Epoch 75/1000\n",
            "1500/1500 - 0s - loss: 1.1760 - val_loss: 1.5094\n",
            "Epoch 76/1000\n",
            "1500/1500 - 0s - loss: 1.1277 - val_loss: 1.3212\n",
            "Epoch 77/1000\n",
            "1500/1500 - 0s - loss: 1.0698 - val_loss: 1.2904\n",
            "Epoch 78/1000\n",
            "1500/1500 - 0s - loss: 1.0343 - val_loss: 1.2636\n",
            "Epoch 79/1000\n",
            "1500/1500 - 0s - loss: 1.0211 - val_loss: 1.2680\n",
            "Epoch 80/1000\n",
            "1500/1500 - 0s - loss: 0.9900 - val_loss: 1.2146\n",
            "Epoch 81/1000\n",
            "1500/1500 - 0s - loss: 0.9219 - val_loss: 1.1072\n",
            "Epoch 82/1000\n",
            "1500/1500 - 0s - loss: 0.8965 - val_loss: 1.0765\n",
            "Epoch 83/1000\n",
            "1500/1500 - 0s - loss: 0.8804 - val_loss: 1.0555\n",
            "Epoch 84/1000\n",
            "1500/1500 - 0s - loss: 0.8516 - val_loss: 1.0410\n",
            "Epoch 85/1000\n",
            "1500/1500 - 0s - loss: 0.8446 - val_loss: 1.0162\n",
            "Epoch 86/1000\n",
            "1500/1500 - 0s - loss: 0.7993 - val_loss: 0.9594\n",
            "Epoch 87/1000\n",
            "1500/1500 - 0s - loss: 0.7633 - val_loss: 0.9225\n",
            "Epoch 88/1000\n",
            "1500/1500 - 0s - loss: 0.7771 - val_loss: 0.9147\n",
            "Epoch 89/1000\n",
            "1500/1500 - 0s - loss: 0.7310 - val_loss: 0.9399\n",
            "Epoch 90/1000\n",
            "1500/1500 - 0s - loss: 0.7181 - val_loss: 0.8641\n",
            "Epoch 91/1000\n",
            "1500/1500 - 0s - loss: 0.7006 - val_loss: 0.8632\n",
            "Epoch 92/1000\n",
            "1500/1500 - 0s - loss: 0.6909 - val_loss: 0.8512\n",
            "Epoch 93/1000\n",
            "1500/1500 - 0s - loss: 0.6646 - val_loss: 0.8190\n",
            "Epoch 94/1000\n",
            "1500/1500 - 0s - loss: 0.6604 - val_loss: 0.8208\n",
            "Epoch 95/1000\n",
            "1500/1500 - 0s - loss: 0.6473 - val_loss: 0.8056\n",
            "Epoch 96/1000\n",
            "1500/1500 - 0s - loss: 0.6566 - val_loss: 0.7666\n",
            "Epoch 97/1000\n",
            "1500/1500 - 0s - loss: 0.6126 - val_loss: 0.7551\n",
            "Epoch 98/1000\n",
            "1500/1500 - 0s - loss: 0.6089 - val_loss: 0.7654\n",
            "Epoch 99/1000\n",
            "1500/1500 - 0s - loss: 0.6076 - val_loss: 0.7397\n",
            "Epoch 100/1000\n",
            "1500/1500 - 0s - loss: 0.6173 - val_loss: 0.7174\n",
            "Epoch 101/1000\n",
            "1500/1500 - 0s - loss: 0.5907 - val_loss: 0.7475\n",
            "Epoch 102/1000\n",
            "1500/1500 - 0s - loss: 0.5864 - val_loss: 0.7014\n",
            "Epoch 103/1000\n",
            "1500/1500 - 0s - loss: 0.5683 - val_loss: 0.7431\n",
            "Epoch 104/1000\n",
            "1500/1500 - 0s - loss: 0.5766 - val_loss: 0.7006\n",
            "Epoch 105/1000\n",
            "1500/1500 - 0s - loss: 0.5716 - val_loss: 0.6926\n",
            "Epoch 106/1000\n",
            "1500/1500 - 0s - loss: 0.5514 - val_loss: 0.6593\n",
            "Epoch 107/1000\n",
            "1500/1500 - 0s - loss: 0.5559 - val_loss: 0.6711\n",
            "Epoch 108/1000\n",
            "1500/1500 - 0s - loss: 0.5312 - val_loss: 0.6970\n",
            "Epoch 109/1000\n",
            "1500/1500 - 0s - loss: 0.5343 - val_loss: 0.6388\n",
            "Epoch 110/1000\n",
            "1500/1500 - 0s - loss: 0.5073 - val_loss: 0.6218\n",
            "Epoch 111/1000\n",
            "1500/1500 - 0s - loss: 0.4869 - val_loss: 0.6042\n",
            "Epoch 112/1000\n",
            "1500/1500 - 0s - loss: 0.4717 - val_loss: 0.6015\n",
            "Epoch 113/1000\n",
            "1500/1500 - 0s - loss: 0.4686 - val_loss: 0.5957\n",
            "Epoch 114/1000\n",
            "1500/1500 - 0s - loss: 0.4882 - val_loss: 0.7120\n",
            "Epoch 115/1000\n",
            "1500/1500 - 0s - loss: 0.5161 - val_loss: 0.6346\n",
            "Epoch 116/1000\n",
            "1500/1500 - 0s - loss: 0.4623 - val_loss: 0.5664\n",
            "Epoch 117/1000\n",
            "1500/1500 - 0s - loss: 0.4456 - val_loss: 0.5641\n",
            "Epoch 118/1000\n",
            "1500/1500 - 0s - loss: 0.4589 - val_loss: 0.5588\n",
            "Epoch 119/1000\n",
            "1500/1500 - 0s - loss: 0.4306 - val_loss: 0.6353\n",
            "Epoch 120/1000\n",
            "1500/1500 - 0s - loss: 0.4431 - val_loss: 0.6102\n",
            "Epoch 121/1000\n",
            "1500/1500 - 0s - loss: 0.4551 - val_loss: 0.5440\n",
            "Epoch 122/1000\n",
            "1500/1500 - 0s - loss: 0.4340 - val_loss: 0.6444\n",
            "Epoch 123/1000\n",
            "1500/1500 - 0s - loss: 0.4803 - val_loss: 0.6397\n",
            "Epoch 124/1000\n",
            "1500/1500 - 0s - loss: 0.4283 - val_loss: 0.6259\n",
            "Epoch 125/1000\n",
            "1500/1500 - 0s - loss: 0.4186 - val_loss: 0.5283\n",
            "Epoch 126/1000\n",
            "1500/1500 - 0s - loss: 0.4582 - val_loss: 0.6947\n",
            "Epoch 127/1000\n",
            "1500/1500 - 0s - loss: 0.4627 - val_loss: 0.5513\n",
            "Epoch 128/1000\n",
            "1500/1500 - 0s - loss: 0.4286 - val_loss: 0.5217\n",
            "Epoch 129/1000\n",
            "1500/1500 - 0s - loss: 0.4414 - val_loss: 0.5399\n",
            "Epoch 130/1000\n",
            "1500/1500 - 0s - loss: 0.4217 - val_loss: 0.5233\n",
            "Epoch 131/1000\n",
            "1500/1500 - 0s - loss: 0.4288 - val_loss: 0.5332\n",
            "Epoch 132/1000\n",
            "1500/1500 - 0s - loss: 0.4089 - val_loss: 0.5502\n",
            "Epoch 133/1000\n",
            "Restoring model weights from the end of the best epoch.\n",
            "1500/1500 - 0s - loss: 0.4072 - val_loss: 0.5291\n",
            "Epoch 00133: early stopping\n"
          ],
          "name": "stdout"
        },
        {
          "output_type": "execute_result",
          "data": {
            "text/plain": [
              "<tensorflow.python.keras.callbacks.History at 0x7fc7e992e5c0>"
            ]
          },
          "metadata": {
            "tags": []
          },
          "execution_count": 18
        }
      ]
    },
    {
      "cell_type": "code",
      "metadata": {
        "id": "X0j6TKNbxOUA",
        "colab_type": "code",
        "colab": {
          "base_uri": "https://localhost:8080/",
          "height": 36
        },
        "outputId": "4c1bd548-5232-4a3d-fc5a-84bc4d2d536d"
      },
      "source": [
        "from sklearn import metrics\n",
        "\n",
        "# Predict\n",
        "pred = model.predict(x_test)\n",
        "\n",
        "# Measure MSE error.  \n",
        "score = metrics.mean_squared_error(pred,y_test)\n",
        "print(\"Final score (MSE): {}\".format(score))"
      ],
      "execution_count": 19,
      "outputs": [
        {
          "output_type": "stream",
          "text": [
            "Final score (MSE): 0.5216943146800405\n"
          ],
          "name": "stdout"
        }
      ]
    },
    {
      "cell_type": "code",
      "metadata": {
        "id": "rErJFyqxxr09",
        "colab_type": "code",
        "colab": {
          "base_uri": "https://localhost:8080/",
          "height": 36
        },
        "outputId": "52a1a85d-8a85-4c98-9150-b6feeded32e4"
      },
      "source": [
        "type(pred)"
      ],
      "execution_count": 27,
      "outputs": [
        {
          "output_type": "execute_result",
          "data": {
            "text/plain": [
              "numpy.ndarray"
            ]
          },
          "metadata": {
            "tags": []
          },
          "execution_count": 27
        }
      ]
    },
    {
      "cell_type": "code",
      "metadata": {
        "id": "Wtw5O0Zvx5Kj",
        "colab_type": "code",
        "colab": {
          "base_uri": "https://localhost:8080/",
          "height": 36
        },
        "outputId": "bd5945da-2b3c-4072-d5d9-17a6f2bb81ab"
      },
      "source": [
        "pred.shape"
      ],
      "execution_count": 28,
      "outputs": [
        {
          "output_type": "execute_result",
          "data": {
            "text/plain": [
              "(500, 1)"
            ]
          },
          "metadata": {
            "tags": []
          },
          "execution_count": 28
        }
      ]
    },
    {
      "cell_type": "code",
      "metadata": {
        "id": "NYt-Ae5Yx8O2",
        "colab_type": "code",
        "colab": {
          "base_uri": "https://localhost:8080/",
          "height": 36
        },
        "outputId": "854cf685-187e-4971-81d0-e9ee5f8fbb0c"
      },
      "source": [
        "type(pred.flatten())"
      ],
      "execution_count": 29,
      "outputs": [
        {
          "output_type": "execute_result",
          "data": {
            "text/plain": [
              "numpy.ndarray"
            ]
          },
          "metadata": {
            "tags": []
          },
          "execution_count": 29
        }
      ]
    },
    {
      "cell_type": "code",
      "metadata": {
        "id": "Rpn6DuBBx-wU",
        "colab_type": "code",
        "colab": {
          "base_uri": "https://localhost:8080/",
          "height": 36
        },
        "outputId": "4194396f-4449-4200-bd8d-9c1290e9e374"
      },
      "source": [
        "pred.flatten().shape"
      ],
      "execution_count": 30,
      "outputs": [
        {
          "output_type": "execute_result",
          "data": {
            "text/plain": [
              "(500,)"
            ]
          },
          "metadata": {
            "tags": []
          },
          "execution_count": 30
        }
      ]
    },
    {
      "cell_type": "code",
      "metadata": {
        "id": "tmP4wsTzxRcw",
        "colab_type": "code",
        "colab": {
          "base_uri": "https://localhost:8080/",
          "height": 36
        },
        "outputId": "ffc8d1de-3b92-4772-ea9a-2e1beebfd912"
      },
      "source": [
        "import numpy as np\n",
        "\n",
        "# Measure RMSE error.  RMSE is common for regression.\n",
        "score = np.sqrt(metrics.mean_squared_error(pred,y_test))\n",
        "print(\"Final score (RMSE): {}\".format(score))"
      ],
      "execution_count": 20,
      "outputs": [
        {
          "output_type": "stream",
          "text": [
            "Final score (RMSE): 0.7222840955469256\n"
          ],
          "name": "stdout"
        }
      ]
    },
    {
      "cell_type": "code",
      "metadata": {
        "id": "PkxtV6RrxiA_",
        "colab_type": "code",
        "colab": {}
      },
      "source": [
        "# Regression chart.\n",
        "def chart_regression(pred, y, sort=True):\n",
        "    t = pd.DataFrame({'pred': pred, 'y': y.flatten()})\n",
        "    if sort:\n",
        "        t.sort_values(by=['y'], inplace=True)\n",
        "    plt.plot(t['y'].tolist(), label='expected')\n",
        "    plt.plot(t['pred'].tolist(), label='prediction')\n",
        "    plt.ylabel('output')\n",
        "    plt.legend()\n",
        "    plt.show()"
      ],
      "execution_count": 0,
      "outputs": []
    },
    {
      "cell_type": "code",
      "metadata": {
        "id": "x7sxbRjJxi3M",
        "colab_type": "code",
        "colab": {
          "base_uri": "https://localhost:8080/",
          "height": 265
        },
        "outputId": "3156a6fe-bd8d-46a0-f49a-f40861291733"
      },
      "source": [
        "chart_regression(pred.flatten(),y_test)"
      ],
      "execution_count": 26,
      "outputs": [
        {
          "output_type": "display_data",
          "data": {
            "image/png": "[encoded data removed]",
            "text/plain": [
              "<Figure size 432x288 with 1 Axes>"
            ]
          },
          "metadata": {
            "tags": []
          }
        }
      ]
    }
  ]
}