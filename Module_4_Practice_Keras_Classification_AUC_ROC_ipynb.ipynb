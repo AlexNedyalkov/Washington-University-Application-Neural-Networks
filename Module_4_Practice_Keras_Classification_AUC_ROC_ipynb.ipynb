{
  "nbformat": 4,
  "nbformat_minor": 0,
  "metadata": {
    "colab": {
      "name": "Module_4_Practice_Keras_Classification_AUC_ROC.ipynb.ipynb",
      "provenance": [],
      "authorship_tag": "ABX9TyOf5W3rRDzC7/H3wFZjz213",
      "include_colab_link": true
    },
    "kernelspec": {
      "name": "python3",
      "display_name": "Python 3"
    }
  },
  "cells": [
    {
      "cell_type": "markdown",
      "metadata": {
        "id": "view-in-github",
        "colab_type": "text"
      },
      "source": [
        "<a href=\"https://colab.research.google.com/github/AlexNedyalkov/Washington-University-Application-Neural-Networks/blob/master/Module_4_Practice_Keras_Classification_AUC_ROC_ipynb.ipynb\" target=\"_parent\"><img src=\"https://colab.research.google.com/assets/colab-badge.svg\" alt=\"Open In Colab\"/></a>"
      ]
    },
    {
      "cell_type": "code",
      "metadata": {
        "id": "hCZMPv15noZi",
        "colab_type": "code",
        "outputId": "0f1ee127-21fe-479b-9b73-8298e631927c",
        "colab": {
          "base_uri": "https://localhost:8080/",
          "height": 54
        }
      },
      "source": [
        "try:\n",
        "    %tensorflow_version 2.x\n",
        "    COLAB = True\n",
        "    print(\"Note: using Google CoLab\")\n",
        "except:\n",
        "    print(\"Note: not using Google CoLab\")\n",
        "    COLAB = False"
      ],
      "execution_count": 0,
      "outputs": [
        {
          "output_type": "stream",
          "text": [
            "TensorFlow 2.x selected.\n",
            "Note: using Google CoLab\n"
          ],
          "name": "stdout"
        }
      ]
    },
    {
      "cell_type": "code",
      "metadata": {
        "id": "sQa27Fs7oPLz",
        "colab_type": "code",
        "colab": {}
      },
      "source": [
        "import pandas as pd\n",
        "import numpy as np\n",
        "import matplotlib.pyplot as plt"
      ],
      "execution_count": 0,
      "outputs": []
    },
    {
      "cell_type": "markdown",
      "metadata": {
        "id": "Ut9yW9QGobCF",
        "colab_type": "text"
      },
      "source": [
        "Binary classification is used to create a model that classifies between only two classes. These two classes are often called \"positive\" and \"negative\". Consider the following program that uses the wcbreast_wdbc dataset to classify if a breast tumor is cancerous (malignant) or not (benign). "
      ]
    },
    {
      "cell_type": "code",
      "metadata": {
        "id": "7q2pwj_dog91",
        "colab_type": "code",
        "colab": {}
      },
      "source": [
        "df = pd.read_csv(    \"https://data.heatonresearch.com/data/t81-558/wcbreast_wdbc.csv\",\n",
        "                 na_values = [\"?\", \"NA\"])"
      ],
      "execution_count": 0,
      "outputs": []
    },
    {
      "cell_type": "code",
      "metadata": {
        "id": "-fQyrUICovyz",
        "colab_type": "code",
        "outputId": "51e8d83e-9b13-4c5a-ca15-24bf1e698880",
        "colab": {
          "base_uri": "https://localhost:8080/",
          "height": 226
        }
      },
      "source": [
        "display(df.head())"
      ],
      "execution_count": 0,
      "outputs": [
        {
          "output_type": "display_data",
          "data": {
            "text/html": [
              "<div>\n",
              "<style scoped>\n",
              "    .dataframe tbody tr th:only-of-type {\n",
              "        vertical-align: middle;\n",
              "    }\n",
              "\n",
              "    .dataframe tbody tr th {\n",
              "        vertical-align: top;\n",
              "    }\n",
              "\n",
              "    .dataframe thead th {\n",
              "        text-align: right;\n",
              "    }\n",
              "</style>\n",
              "<table border=\"1\" class=\"dataframe\">\n",
              "  <thead>\n",
              "    <tr style=\"text-align: right;\">\n",
              "      <th></th>\n",
              "      <th>id</th>\n",
              "      <th>diagnosis</th>\n",
              "      <th>mean_radius</th>\n",
              "      <th>mean_texture</th>\n",
              "      <th>mean_perimeter</th>\n",
              "      <th>mean_area</th>\n",
              "      <th>mean_smoothness</th>\n",
              "      <th>mean_compactness</th>\n",
              "      <th>mean_concavity</th>\n",
              "      <th>mean_concave_points</th>\n",
              "      <th>mean_symmetry</th>\n",
              "      <th>mean_fractal_dimension</th>\n",
              "      <th>se_radius</th>\n",
              "      <th>se_texture</th>\n",
              "      <th>se_perimeter</th>\n",
              "      <th>se_area</th>\n",
              "      <th>se_smoothness</th>\n",
              "      <th>se_compactness</th>\n",
              "      <th>se_concavity</th>\n",
              "      <th>se_concave_points</th>\n",
              "      <th>se_symmetry</th>\n",
              "      <th>se_fractal_dimension</th>\n",
              "      <th>worst_radius</th>\n",
              "      <th>worst_texture</th>\n",
              "      <th>worst_perimeter</th>\n",
              "      <th>worst_area</th>\n",
              "      <th>worst_smoothness</th>\n",
              "      <th>worst_compactness</th>\n",
              "      <th>worst_concavity</th>\n",
              "      <th>worst_concave_points</th>\n",
              "      <th>worst_symmetry</th>\n",
              "      <th>worst_fractal_dimension</th>\n",
              "    </tr>\n",
              "  </thead>\n",
              "  <tbody>\n",
              "    <tr>\n",
              "      <th>0</th>\n",
              "      <td>842302</td>\n",
              "      <td>M</td>\n",
              "      <td>17.99</td>\n",
              "      <td>10.38</td>\n",
              "      <td>122.80</td>\n",
              "      <td>1001.0</td>\n",
              "      <td>0.11840</td>\n",
              "      <td>0.27760</td>\n",
              "      <td>0.3001</td>\n",
              "      <td>0.14710</td>\n",
              "      <td>0.2419</td>\n",
              "      <td>0.07871</td>\n",
              "      <td>1.0950</td>\n",
              "      <td>0.9053</td>\n",
              "      <td>8.589</td>\n",
              "      <td>153.40</td>\n",
              "      <td>0.006399</td>\n",
              "      <td>0.04904</td>\n",
              "      <td>0.05373</td>\n",
              "      <td>0.01587</td>\n",
              "      <td>0.03003</td>\n",
              "      <td>0.006193</td>\n",
              "      <td>25.38</td>\n",
              "      <td>17.33</td>\n",
              "      <td>184.60</td>\n",
              "      <td>2019.0</td>\n",
              "      <td>0.1622</td>\n",
              "      <td>0.6656</td>\n",
              "      <td>0.7119</td>\n",
              "      <td>0.2654</td>\n",
              "      <td>0.4601</td>\n",
              "      <td>0.11890</td>\n",
              "    </tr>\n",
              "    <tr>\n",
              "      <th>1</th>\n",
              "      <td>842517</td>\n",
              "      <td>M</td>\n",
              "      <td>20.57</td>\n",
              "      <td>17.77</td>\n",
              "      <td>132.90</td>\n",
              "      <td>1326.0</td>\n",
              "      <td>0.08474</td>\n",
              "      <td>0.07864</td>\n",
              "      <td>0.0869</td>\n",
              "      <td>0.07017</td>\n",
              "      <td>0.1812</td>\n",
              "      <td>0.05667</td>\n",
              "      <td>0.5435</td>\n",
              "      <td>0.7339</td>\n",
              "      <td>3.398</td>\n",
              "      <td>74.08</td>\n",
              "      <td>0.005225</td>\n",
              "      <td>0.01308</td>\n",
              "      <td>0.01860</td>\n",
              "      <td>0.01340</td>\n",
              "      <td>0.01389</td>\n",
              "      <td>0.003532</td>\n",
              "      <td>24.99</td>\n",
              "      <td>23.41</td>\n",
              "      <td>158.80</td>\n",
              "      <td>1956.0</td>\n",
              "      <td>0.1238</td>\n",
              "      <td>0.1866</td>\n",
              "      <td>0.2416</td>\n",
              "      <td>0.1860</td>\n",
              "      <td>0.2750</td>\n",
              "      <td>0.08902</td>\n",
              "    </tr>\n",
              "    <tr>\n",
              "      <th>2</th>\n",
              "      <td>84300903</td>\n",
              "      <td>M</td>\n",
              "      <td>19.69</td>\n",
              "      <td>21.25</td>\n",
              "      <td>130.00</td>\n",
              "      <td>1203.0</td>\n",
              "      <td>0.10960</td>\n",
              "      <td>0.15990</td>\n",
              "      <td>0.1974</td>\n",
              "      <td>0.12790</td>\n",
              "      <td>0.2069</td>\n",
              "      <td>0.05999</td>\n",
              "      <td>0.7456</td>\n",
              "      <td>0.7869</td>\n",
              "      <td>4.585</td>\n",
              "      <td>94.03</td>\n",
              "      <td>0.006150</td>\n",
              "      <td>0.04006</td>\n",
              "      <td>0.03832</td>\n",
              "      <td>0.02058</td>\n",
              "      <td>0.02250</td>\n",
              "      <td>0.004571</td>\n",
              "      <td>23.57</td>\n",
              "      <td>25.53</td>\n",
              "      <td>152.50</td>\n",
              "      <td>1709.0</td>\n",
              "      <td>0.1444</td>\n",
              "      <td>0.4245</td>\n",
              "      <td>0.4504</td>\n",
              "      <td>0.2430</td>\n",
              "      <td>0.3613</td>\n",
              "      <td>0.08758</td>\n",
              "    </tr>\n",
              "    <tr>\n",
              "      <th>3</th>\n",
              "      <td>84348301</td>\n",
              "      <td>M</td>\n",
              "      <td>11.42</td>\n",
              "      <td>20.38</td>\n",
              "      <td>77.58</td>\n",
              "      <td>386.1</td>\n",
              "      <td>0.14250</td>\n",
              "      <td>0.28390</td>\n",
              "      <td>0.2414</td>\n",
              "      <td>0.10520</td>\n",
              "      <td>0.2597</td>\n",
              "      <td>0.09744</td>\n",
              "      <td>0.4956</td>\n",
              "      <td>1.1560</td>\n",
              "      <td>3.445</td>\n",
              "      <td>27.23</td>\n",
              "      <td>0.009110</td>\n",
              "      <td>0.07458</td>\n",
              "      <td>0.05661</td>\n",
              "      <td>0.01867</td>\n",
              "      <td>0.05963</td>\n",
              "      <td>0.009208</td>\n",
              "      <td>14.91</td>\n",
              "      <td>26.50</td>\n",
              "      <td>98.87</td>\n",
              "      <td>567.7</td>\n",
              "      <td>0.2098</td>\n",
              "      <td>0.8663</td>\n",
              "      <td>0.6869</td>\n",
              "      <td>0.2575</td>\n",
              "      <td>0.6638</td>\n",
              "      <td>0.17300</td>\n",
              "    </tr>\n",
              "    <tr>\n",
              "      <th>4</th>\n",
              "      <td>84358402</td>\n",
              "      <td>M</td>\n",
              "      <td>20.29</td>\n",
              "      <td>14.34</td>\n",
              "      <td>135.10</td>\n",
              "      <td>1297.0</td>\n",
              "      <td>0.10030</td>\n",
              "      <td>0.13280</td>\n",
              "      <td>0.1980</td>\n",
              "      <td>0.10430</td>\n",
              "      <td>0.1809</td>\n",
              "      <td>0.05883</td>\n",
              "      <td>0.7572</td>\n",
              "      <td>0.7813</td>\n",
              "      <td>5.438</td>\n",
              "      <td>94.44</td>\n",
              "      <td>0.011490</td>\n",
              "      <td>0.02461</td>\n",
              "      <td>0.05688</td>\n",
              "      <td>0.01885</td>\n",
              "      <td>0.01756</td>\n",
              "      <td>0.005115</td>\n",
              "      <td>22.54</td>\n",
              "      <td>16.67</td>\n",
              "      <td>152.20</td>\n",
              "      <td>1575.0</td>\n",
              "      <td>0.1374</td>\n",
              "      <td>0.2050</td>\n",
              "      <td>0.4000</td>\n",
              "      <td>0.1625</td>\n",
              "      <td>0.2364</td>\n",
              "      <td>0.07678</td>\n",
              "    </tr>\n",
              "  </tbody>\n",
              "</table>\n",
              "</div>"
            ],
            "text/plain": [
              "         id diagnosis  ...  worst_symmetry  worst_fractal_dimension\n",
              "0    842302         M  ...          0.4601                  0.11890\n",
              "1    842517         M  ...          0.2750                  0.08902\n",
              "2  84300903         M  ...          0.3613                  0.08758\n",
              "3  84348301         M  ...          0.6638                  0.17300\n",
              "4  84358402         M  ...          0.2364                  0.07678\n",
              "\n",
              "[5 rows x 32 columns]"
            ]
          },
          "metadata": {
            "tags": []
          }
        }
      ]
    },
    {
      "cell_type": "code",
      "metadata": {
        "id": "2CECzQTqrJCL",
        "colab_type": "code",
        "outputId": "4ca44f64-f9ec-4db0-dde0-26719a978517",
        "colab": {
          "base_uri": "https://localhost:8080/",
          "height": 35
        }
      },
      "source": [
        "df.diagnosis.unique()"
      ],
      "execution_count": 0,
      "outputs": [
        {
          "output_type": "execute_result",
          "data": {
            "text/plain": [
              "array(['M', 'B'], dtype=object)"
            ]
          },
          "metadata": {
            "tags": []
          },
          "execution_count": 5
        }
      ]
    },
    {
      "cell_type": "code",
      "metadata": {
        "id": "58W3TUN8o0MX",
        "colab_type": "code",
        "outputId": "152693b8-acc9-4f78-a379-6a8d0f4ec25f",
        "colab": {
          "base_uri": "https://localhost:8080/",
          "height": 35
        }
      },
      "source": [
        "df.shape"
      ],
      "execution_count": 0,
      "outputs": [
        {
          "output_type": "execute_result",
          "data": {
            "text/plain": [
              "(569, 32)"
            ]
          },
          "metadata": {
            "tags": []
          },
          "execution_count": 6
        }
      ]
    },
    {
      "cell_type": "code",
      "metadata": {
        "id": "zEKpqu4qo6d1",
        "colab_type": "code",
        "outputId": "2d88a08f-82d1-424f-8bcf-8d429ee5e917",
        "colab": {
          "base_uri": "https://localhost:8080/",
          "height": 623
        }
      },
      "source": [
        "df.isna().sum()"
      ],
      "execution_count": 0,
      "outputs": [
        {
          "output_type": "execute_result",
          "data": {
            "text/plain": [
              "id                         0\n",
              "diagnosis                  0\n",
              "mean_radius                0\n",
              "mean_texture               0\n",
              "mean_perimeter             0\n",
              "mean_area                  0\n",
              "mean_smoothness            0\n",
              "mean_compactness           0\n",
              "mean_concavity             0\n",
              "mean_concave_points        0\n",
              "mean_symmetry              0\n",
              "mean_fractal_dimension     0\n",
              "se_radius                  0\n",
              "se_texture                 0\n",
              "se_perimeter               0\n",
              "se_area                    0\n",
              "se_smoothness              0\n",
              "se_compactness             0\n",
              "se_concavity               0\n",
              "se_concave_points          0\n",
              "se_symmetry                0\n",
              "se_fractal_dimension       0\n",
              "worst_radius               0\n",
              "worst_texture              0\n",
              "worst_perimeter            0\n",
              "worst_area                 0\n",
              "worst_smoothness           0\n",
              "worst_compactness          0\n",
              "worst_concavity            0\n",
              "worst_concave_points       0\n",
              "worst_symmetry             0\n",
              "worst_fractal_dimension    0\n",
              "dtype: int64"
            ]
          },
          "metadata": {
            "tags": []
          },
          "execution_count": 7
        }
      ]
    },
    {
      "cell_type": "code",
      "metadata": {
        "id": "my9dtQBEpjp1",
        "colab_type": "code",
        "colab": {}
      },
      "source": [
        "import math\n",
        "import scipy.stats as stats"
      ],
      "execution_count": 0,
      "outputs": []
    },
    {
      "cell_type": "code",
      "metadata": {
        "id": "lEOT-baRpCOo",
        "colab_type": "code",
        "outputId": "1afab263-fa3d-4844-b412-b2d1303aa166",
        "colab": {
          "base_uri": "https://localhost:8080/",
          "height": 282
        }
      },
      "source": [
        "mu1 = -2\n",
        "mu2 = 2\n",
        "variance = 1\n",
        "sigma = math.sqrt(variance)\n",
        "x1 = np.linspace(mu1 - 5*sigma, mu1 + 4*sigma, 100)\n",
        "x2 = np.linspace(mu2 - 5*sigma, mu2 + 4*sigma, 100)\n",
        "plt.plot(x1, stats.norm.pdf(x1, mu1, sigma)/1,color=\"green\")\n",
        "plt.plot(x2, stats.norm.pdf(x2, mu2, sigma)/1,color=\"red\")\n",
        "plt.axvline(x=-2,color=\"black\")\n",
        "plt.axvline(x=0,color=\"black\")\n",
        "plt.axvline(x=+2,color=\"black\")\n",
        "plt.text(-2.7,0.55,\"Sensitive\")\n",
        "plt.text(-0.7,0.55,\"Balanced\")\n",
        "plt.text(1.7,0.55,\"Specific\")\n",
        "plt.ylim([0,0.53])\n",
        "plt.xlim([-5,5])\n",
        "plt.legend(['Negative','Positive'])\n",
        "plt.yticks([])\n",
        "#plt.set_yticklabels([])\n",
        "plt.show()"
      ],
      "execution_count": 0,
      "outputs": [
        {
          "output_type": "display_data",
          "data": {
            "image/png": "[encoded data removed]",
            "text/plain": [
              "<Figure size 432x288 with 1 Axes>"
            ]
          },
          "metadata": {
            "tags": []
          }
        }
      ]
    },
    {
      "cell_type": "code",
      "metadata": {
        "id": "yxICvuoVqNvB",
        "colab_type": "code",
        "colab": {}
      },
      "source": [
        "x_columns = df.drop(\"id\", axis = 1).drop(\"diagnosis\", axis = 1)"
      ],
      "execution_count": 0,
      "outputs": []
    },
    {
      "cell_type": "code",
      "metadata": {
        "id": "2QMVVYdVqiCJ",
        "colab_type": "code",
        "colab": {}
      },
      "source": [
        "from scipy.stats import zscore"
      ],
      "execution_count": 0,
      "outputs": []
    },
    {
      "cell_type": "code",
      "metadata": {
        "id": "TVcsumzuqax4",
        "colab_type": "code",
        "colab": {}
      },
      "source": [
        "x_columns = x_columns.apply(zscore)"
      ],
      "execution_count": 0,
      "outputs": []
    },
    {
      "cell_type": "code",
      "metadata": {
        "id": "XbJxRZYbqwSB",
        "colab_type": "code",
        "outputId": "d0cff60e-da01-4d51-d14c-ada836a25dd4",
        "colab": {
          "base_uri": "https://localhost:8080/",
          "height": 320
        }
      },
      "source": [
        "x_columns.describe()"
      ],
      "execution_count": 0,
      "outputs": [
        {
          "output_type": "execute_result",
          "data": {
            "text/html": [
              "<div>\n",
              "<style scoped>\n",
              "    .dataframe tbody tr th:only-of-type {\n",
              "        vertical-align: middle;\n",
              "    }\n",
              "\n",
              "    .dataframe tbody tr th {\n",
              "        vertical-align: top;\n",
              "    }\n",
              "\n",
              "    .dataframe thead th {\n",
              "        text-align: right;\n",
              "    }\n",
              "</style>\n",
              "<table border=\"1\" class=\"dataframe\">\n",
              "  <thead>\n",
              "    <tr style=\"text-align: right;\">\n",
              "      <th></th>\n",
              "      <th>mean_radius</th>\n",
              "      <th>mean_texture</th>\n",
              "      <th>mean_perimeter</th>\n",
              "      <th>mean_area</th>\n",
              "      <th>mean_smoothness</th>\n",
              "      <th>mean_compactness</th>\n",
              "      <th>mean_concavity</th>\n",
              "      <th>mean_concave_points</th>\n",
              "      <th>mean_symmetry</th>\n",
              "      <th>mean_fractal_dimension</th>\n",
              "      <th>se_radius</th>\n",
              "      <th>se_texture</th>\n",
              "      <th>se_perimeter</th>\n",
              "      <th>se_area</th>\n",
              "      <th>se_smoothness</th>\n",
              "      <th>se_compactness</th>\n",
              "      <th>se_concavity</th>\n",
              "      <th>se_concave_points</th>\n",
              "      <th>se_symmetry</th>\n",
              "      <th>se_fractal_dimension</th>\n",
              "      <th>worst_radius</th>\n",
              "      <th>worst_texture</th>\n",
              "      <th>worst_perimeter</th>\n",
              "      <th>worst_area</th>\n",
              "      <th>worst_smoothness</th>\n",
              "      <th>worst_compactness</th>\n",
              "      <th>worst_concavity</th>\n",
              "      <th>worst_concave_points</th>\n",
              "      <th>worst_symmetry</th>\n",
              "      <th>worst_fractal_dimension</th>\n",
              "    </tr>\n",
              "  </thead>\n",
              "  <tbody>\n",
              "    <tr>\n",
              "      <th>count</th>\n",
              "      <td>5.690000e+02</td>\n",
              "      <td>5.690000e+02</td>\n",
              "      <td>5.690000e+02</td>\n",
              "      <td>5.690000e+02</td>\n",
              "      <td>5.690000e+02</td>\n",
              "      <td>5.690000e+02</td>\n",
              "      <td>5.690000e+02</td>\n",
              "      <td>5.690000e+02</td>\n",
              "      <td>5.690000e+02</td>\n",
              "      <td>5.690000e+02</td>\n",
              "      <td>5.690000e+02</td>\n",
              "      <td>5.690000e+02</td>\n",
              "      <td>5.690000e+02</td>\n",
              "      <td>5.690000e+02</td>\n",
              "      <td>5.690000e+02</td>\n",
              "      <td>5.690000e+02</td>\n",
              "      <td>5.690000e+02</td>\n",
              "      <td>5.690000e+02</td>\n",
              "      <td>5.690000e+02</td>\n",
              "      <td>5.690000e+02</td>\n",
              "      <td>5.690000e+02</td>\n",
              "      <td>5.690000e+02</td>\n",
              "      <td>5.690000e+02</td>\n",
              "      <td>5.690000e+02</td>\n",
              "      <td>5.690000e+02</td>\n",
              "      <td>5.690000e+02</td>\n",
              "      <td>5.690000e+02</td>\n",
              "      <td>5.690000e+02</td>\n",
              "      <td>5.690000e+02</td>\n",
              "      <td>5.690000e+02</td>\n",
              "    </tr>\n",
              "    <tr>\n",
              "      <th>mean</th>\n",
              "      <td>-1.256562e-16</td>\n",
              "      <td>1.049736e-16</td>\n",
              "      <td>-1.272171e-16</td>\n",
              "      <td>-1.900452e-16</td>\n",
              "      <td>1.490704e-16</td>\n",
              "      <td>2.544342e-16</td>\n",
              "      <td>-1.338511e-16</td>\n",
              "      <td>-8.429110e-17</td>\n",
              "      <td>2.081912e-16</td>\n",
              "      <td>5.408679e-16</td>\n",
              "      <td>2.475807e-16</td>\n",
              "      <td>-9.912009e-17</td>\n",
              "      <td>-2.968237e-16</td>\n",
              "      <td>-1.088760e-16</td>\n",
              "      <td>4.426014e-16</td>\n",
              "      <td>1.958988e-16</td>\n",
              "      <td>1.678017e-16</td>\n",
              "      <td>2.185325e-17</td>\n",
              "      <td>1.523874e-16</td>\n",
              "      <td>-5.658430e-17</td>\n",
              "      <td>-7.988142e-16</td>\n",
              "      <td>-1.834112e-17</td>\n",
              "      <td>-4.015534e-16</td>\n",
              "      <td>-2.848727e-17</td>\n",
              "      <td>-2.189227e-16</td>\n",
              "      <td>-2.579464e-16</td>\n",
              "      <td>1.143393e-16</td>\n",
              "      <td>2.829215e-16</td>\n",
              "      <td>1.670212e-16</td>\n",
              "      <td>2.321908e-16</td>\n",
              "    </tr>\n",
              "    <tr>\n",
              "      <th>std</th>\n",
              "      <td>1.000880e+00</td>\n",
              "      <td>1.000880e+00</td>\n",
              "      <td>1.000880e+00</td>\n",
              "      <td>1.000880e+00</td>\n",
              "      <td>1.000880e+00</td>\n",
              "      <td>1.000880e+00</td>\n",
              "      <td>1.000880e+00</td>\n",
              "      <td>1.000880e+00</td>\n",
              "      <td>1.000880e+00</td>\n",
              "      <td>1.000880e+00</td>\n",
              "      <td>1.000880e+00</td>\n",
              "      <td>1.000880e+00</td>\n",
              "      <td>1.000880e+00</td>\n",
              "      <td>1.000880e+00</td>\n",
              "      <td>1.000880e+00</td>\n",
              "      <td>1.000880e+00</td>\n",
              "      <td>1.000880e+00</td>\n",
              "      <td>1.000880e+00</td>\n",
              "      <td>1.000880e+00</td>\n",
              "      <td>1.000880e+00</td>\n",
              "      <td>1.000880e+00</td>\n",
              "      <td>1.000880e+00</td>\n",
              "      <td>1.000880e+00</td>\n",
              "      <td>1.000880e+00</td>\n",
              "      <td>1.000880e+00</td>\n",
              "      <td>1.000880e+00</td>\n",
              "      <td>1.000880e+00</td>\n",
              "      <td>1.000880e+00</td>\n",
              "      <td>1.000880e+00</td>\n",
              "      <td>1.000880e+00</td>\n",
              "    </tr>\n",
              "    <tr>\n",
              "      <th>min</th>\n",
              "      <td>-2.029648e+00</td>\n",
              "      <td>-2.229249e+00</td>\n",
              "      <td>-1.984504e+00</td>\n",
              "      <td>-1.454443e+00</td>\n",
              "      <td>-3.112085e+00</td>\n",
              "      <td>-1.610136e+00</td>\n",
              "      <td>-1.114873e+00</td>\n",
              "      <td>-1.261820e+00</td>\n",
              "      <td>-2.744117e+00</td>\n",
              "      <td>-1.819865e+00</td>\n",
              "      <td>-1.059924e+00</td>\n",
              "      <td>-1.554264e+00</td>\n",
              "      <td>-1.044049e+00</td>\n",
              "      <td>-7.378291e-01</td>\n",
              "      <td>-1.776065e+00</td>\n",
              "      <td>-1.298098e+00</td>\n",
              "      <td>-1.057501e+00</td>\n",
              "      <td>-1.913447e+00</td>\n",
              "      <td>-1.532890e+00</td>\n",
              "      <td>-1.096968e+00</td>\n",
              "      <td>-1.726901e+00</td>\n",
              "      <td>-2.223994e+00</td>\n",
              "      <td>-1.693361e+00</td>\n",
              "      <td>-1.222423e+00</td>\n",
              "      <td>-2.682695e+00</td>\n",
              "      <td>-1.443878e+00</td>\n",
              "      <td>-1.305831e+00</td>\n",
              "      <td>-1.745063e+00</td>\n",
              "      <td>-2.160960e+00</td>\n",
              "      <td>-1.601839e+00</td>\n",
              "    </tr>\n",
              "    <tr>\n",
              "      <th>25%</th>\n",
              "      <td>-6.893853e-01</td>\n",
              "      <td>-7.259631e-01</td>\n",
              "      <td>-6.919555e-01</td>\n",
              "      <td>-6.671955e-01</td>\n",
              "      <td>-7.109628e-01</td>\n",
              "      <td>-7.470860e-01</td>\n",
              "      <td>-7.437479e-01</td>\n",
              "      <td>-7.379438e-01</td>\n",
              "      <td>-7.032397e-01</td>\n",
              "      <td>-7.226392e-01</td>\n",
              "      <td>-6.235706e-01</td>\n",
              "      <td>-6.948092e-01</td>\n",
              "      <td>-6.237679e-01</td>\n",
              "      <td>-4.947542e-01</td>\n",
              "      <td>-6.240183e-01</td>\n",
              "      <td>-6.929263e-01</td>\n",
              "      <td>-5.571612e-01</td>\n",
              "      <td>-6.744900e-01</td>\n",
              "      <td>-6.516807e-01</td>\n",
              "      <td>-5.851185e-01</td>\n",
              "      <td>-6.749213e-01</td>\n",
              "      <td>-7.486293e-01</td>\n",
              "      <td>-6.895783e-01</td>\n",
              "      <td>-6.421359e-01</td>\n",
              "      <td>-6.912304e-01</td>\n",
              "      <td>-6.810833e-01</td>\n",
              "      <td>-7.565142e-01</td>\n",
              "      <td>-7.563999e-01</td>\n",
              "      <td>-6.418637e-01</td>\n",
              "      <td>-6.919118e-01</td>\n",
              "    </tr>\n",
              "    <tr>\n",
              "      <th>50%</th>\n",
              "      <td>-2.150816e-01</td>\n",
              "      <td>-1.046362e-01</td>\n",
              "      <td>-2.359800e-01</td>\n",
              "      <td>-2.951869e-01</td>\n",
              "      <td>-3.489108e-02</td>\n",
              "      <td>-2.219405e-01</td>\n",
              "      <td>-3.422399e-01</td>\n",
              "      <td>-3.977212e-01</td>\n",
              "      <td>-7.162650e-02</td>\n",
              "      <td>-1.782793e-01</td>\n",
              "      <td>-2.922452e-01</td>\n",
              "      <td>-1.974976e-01</td>\n",
              "      <td>-2.866520e-01</td>\n",
              "      <td>-3.477828e-01</td>\n",
              "      <td>-2.203352e-01</td>\n",
              "      <td>-2.810204e-01</td>\n",
              "      <td>-1.990654e-01</td>\n",
              "      <td>-1.404958e-01</td>\n",
              "      <td>-2.194304e-01</td>\n",
              "      <td>-2.299405e-01</td>\n",
              "      <td>-2.690395e-01</td>\n",
              "      <td>-4.351564e-02</td>\n",
              "      <td>-2.859802e-01</td>\n",
              "      <td>-3.411812e-01</td>\n",
              "      <td>-4.684277e-02</td>\n",
              "      <td>-2.695009e-01</td>\n",
              "      <td>-2.182321e-01</td>\n",
              "      <td>-2.234689e-01</td>\n",
              "      <td>-1.274095e-01</td>\n",
              "      <td>-2.164441e-01</td>\n",
              "    </tr>\n",
              "    <tr>\n",
              "      <th>75%</th>\n",
              "      <td>4.693926e-01</td>\n",
              "      <td>5.841756e-01</td>\n",
              "      <td>4.996769e-01</td>\n",
              "      <td>3.635073e-01</td>\n",
              "      <td>6.361990e-01</td>\n",
              "      <td>4.938569e-01</td>\n",
              "      <td>5.260619e-01</td>\n",
              "      <td>6.469351e-01</td>\n",
              "      <td>5.307792e-01</td>\n",
              "      <td>4.709834e-01</td>\n",
              "      <td>2.660996e-01</td>\n",
              "      <td>4.665523e-01</td>\n",
              "      <td>2.430307e-01</td>\n",
              "      <td>1.067726e-01</td>\n",
              "      <td>3.683553e-01</td>\n",
              "      <td>3.896541e-01</td>\n",
              "      <td>3.367521e-01</td>\n",
              "      <td>4.726567e-01</td>\n",
              "      <td>3.556925e-01</td>\n",
              "      <td>2.886421e-01</td>\n",
              "      <td>5.220158e-01</td>\n",
              "      <td>6.583411e-01</td>\n",
              "      <td>5.402790e-01</td>\n",
              "      <td>3.575891e-01</td>\n",
              "      <td>5.975448e-01</td>\n",
              "      <td>5.396688e-01</td>\n",
              "      <td>5.311411e-01</td>\n",
              "      <td>7.125100e-01</td>\n",
              "      <td>4.501382e-01</td>\n",
              "      <td>4.507624e-01</td>\n",
              "    </tr>\n",
              "    <tr>\n",
              "      <th>max</th>\n",
              "      <td>3.971288e+00</td>\n",
              "      <td>4.651889e+00</td>\n",
              "      <td>3.976130e+00</td>\n",
              "      <td>5.250529e+00</td>\n",
              "      <td>4.770911e+00</td>\n",
              "      <td>4.568425e+00</td>\n",
              "      <td>4.243589e+00</td>\n",
              "      <td>3.927930e+00</td>\n",
              "      <td>4.484751e+00</td>\n",
              "      <td>4.910919e+00</td>\n",
              "      <td>8.906909e+00</td>\n",
              "      <td>6.655279e+00</td>\n",
              "      <td>9.461986e+00</td>\n",
              "      <td>1.104184e+01</td>\n",
              "      <td>8.029999e+00</td>\n",
              "      <td>6.143482e+00</td>\n",
              "      <td>1.207268e+01</td>\n",
              "      <td>6.649601e+00</td>\n",
              "      <td>7.071917e+00</td>\n",
              "      <td>9.851593e+00</td>\n",
              "      <td>4.094189e+00</td>\n",
              "      <td>3.885905e+00</td>\n",
              "      <td>4.287337e+00</td>\n",
              "      <td>5.930172e+00</td>\n",
              "      <td>3.955374e+00</td>\n",
              "      <td>5.112877e+00</td>\n",
              "      <td>4.700669e+00</td>\n",
              "      <td>2.685877e+00</td>\n",
              "      <td>6.046041e+00</td>\n",
              "      <td>6.846856e+00</td>\n",
              "    </tr>\n",
              "  </tbody>\n",
              "</table>\n",
              "</div>"
            ],
            "text/plain": [
              "        mean_radius  mean_texture  ...  worst_symmetry  worst_fractal_dimension\n",
              "count  5.690000e+02  5.690000e+02  ...    5.690000e+02             5.690000e+02\n",
              "mean  -1.256562e-16  1.049736e-16  ...    1.670212e-16             2.321908e-16\n",
              "std    1.000880e+00  1.000880e+00  ...    1.000880e+00             1.000880e+00\n",
              "min   -2.029648e+00 -2.229249e+00  ...   -2.160960e+00            -1.601839e+00\n",
              "25%   -6.893853e-01 -7.259631e-01  ...   -6.418637e-01            -6.919118e-01\n",
              "50%   -2.150816e-01 -1.046362e-01  ...   -1.274095e-01            -2.164441e-01\n",
              "75%    4.693926e-01  5.841756e-01  ...    4.501382e-01             4.507624e-01\n",
              "max    3.971288e+00  4.651889e+00  ...    6.046041e+00             6.846856e+00\n",
              "\n",
              "[8 rows x 30 columns]"
            ]
          },
          "metadata": {
            "tags": []
          },
          "execution_count": 13
        }
      ]
    },
    {
      "cell_type": "code",
      "metadata": {
        "id": "maO7kcNbq6yk",
        "colab_type": "code",
        "outputId": "3ac8ad86-dae4-4997-9344-d9c2434f555b",
        "colab": {
          "base_uri": "https://localhost:8080/",
          "height": 384
        }
      },
      "source": [
        "x = x_columns.values\n",
        "display(x[:2])"
      ],
      "execution_count": 0,
      "outputs": [
        {
          "output_type": "display_data",
          "data": {
            "text/plain": [
              "array([[ 1.09706398e+00, -2.07333501e+00,  1.26993369e+00,\n",
              "         9.84374905e-01,  1.56846633e+00,  3.28351467e+00,\n",
              "         2.65287398e+00,  2.53247522e+00,  2.21751501e+00,\n",
              "         2.25574689e+00,  2.48973393e+00, -5.65265059e-01,\n",
              "         2.83303087e+00,  2.48757756e+00, -2.14001647e-01,\n",
              "         1.31686157e+00,  7.24026158e-01,  6.60819941e-01,\n",
              "         1.14875667e+00,  9.07083081e-01,  1.88668963e+00,\n",
              "        -1.35929347e+00,  2.30360062e+00,  2.00123749e+00,\n",
              "         1.30768627e+00,  2.61666502e+00,  2.10952635e+00,\n",
              "         2.29607613e+00,  2.75062224e+00,  1.93701461e+00],\n",
              "       [ 1.82982061e+00, -3.53632408e-01,  1.68595471e+00,\n",
              "         1.90870825e+00, -8.26962447e-01, -4.87071673e-01,\n",
              "        -2.38458552e-02,  5.48144156e-01,  1.39236330e-03,\n",
              "        -8.68652457e-01,  4.99254601e-01, -8.76243603e-01,\n",
              "         2.63326966e-01,  7.42401948e-01, -6.05350847e-01,\n",
              "        -6.92926270e-01, -4.40780058e-01,  2.60162067e-01,\n",
              "        -8.05450380e-01, -9.94437403e-02,  1.80592744e+00,\n",
              "        -3.69203222e-01,  1.53512599e+00,  1.89048899e+00,\n",
              "        -3.75611957e-01, -4.30444219e-01, -1.46748968e-01,\n",
              "         1.08708430e+00, -2.43889668e-01,  2.81189987e-01]])"
            ]
          },
          "metadata": {
            "tags": []
          }
        }
      ]
    },
    {
      "cell_type": "code",
      "metadata": {
        "id": "M1fB8xD9tHJW",
        "colab_type": "code",
        "outputId": "f5f25eee-be91-4efd-b791-c582b07b6a3a",
        "colab": {
          "base_uri": "https://localhost:8080/",
          "height": 35
        }
      },
      "source": [
        "x.shape"
      ],
      "execution_count": 0,
      "outputs": [
        {
          "output_type": "execute_result",
          "data": {
            "text/plain": [
              "(569, 30)"
            ]
          },
          "metadata": {
            "tags": []
          },
          "execution_count": 15
        }
      ]
    },
    {
      "cell_type": "code",
      "metadata": {
        "id": "Nwq3F1plrAut",
        "colab_type": "code",
        "colab": {}
      },
      "source": [
        "y = df.diagnosis.map({\"M\":0, \"B\" : 1}).values"
      ],
      "execution_count": 0,
      "outputs": []
    },
    {
      "cell_type": "code",
      "metadata": {
        "id": "rXZqDeaurVQs",
        "colab_type": "code",
        "outputId": "01f85a8e-f9ae-4857-af29-cf8e6ccdb286",
        "colab": {
          "base_uri": "https://localhost:8080/",
          "height": 35
        }
      },
      "source": [
        "y[:5]"
      ],
      "execution_count": 0,
      "outputs": [
        {
          "output_type": "execute_result",
          "data": {
            "text/plain": [
              "array([0, 0, 0, 0, 0])"
            ]
          },
          "metadata": {
            "tags": []
          },
          "execution_count": 17
        }
      ]
    },
    {
      "cell_type": "code",
      "metadata": {
        "id": "6OyGlnE8rr5H",
        "colab_type": "code",
        "colab": {}
      },
      "source": [
        "%matplotlib inline\n",
        "from sklearn.metrics import roc_curve, auc"
      ],
      "execution_count": 0,
      "outputs": []
    },
    {
      "cell_type": "code",
      "metadata": {
        "id": "ERu-eXr-r0uB",
        "colab_type": "code",
        "colab": {}
      },
      "source": [
        "# Plot a confusion matrix.\n",
        "# cm is the confusion matrix, names are the names of the classes.\n",
        "def plot_confusion_matrix(cm, names, title='Confusion matrix', cmap=plt.cm.Blues):\n",
        "    plt.imshow(cm, interpolation='nearest', cmap=cmap)\n",
        "    plt.title(title)\n",
        "    plt.colorbar()\n",
        "    tick_marks = np.arange(len(names))\n",
        "    plt.xticks(tick_marks, names, rotation=45)\n",
        "    plt.yticks(tick_marks, names)\n",
        "    plt.tight_layout()\n",
        "    plt.ylabel('True label')\n",
        "    plt.xlabel('Predicted label')\n",
        "    "
      ],
      "execution_count": 0,
      "outputs": []
    },
    {
      "cell_type": "code",
      "metadata": {
        "id": "TF9P-dFasAQm",
        "colab_type": "code",
        "colab": {}
      },
      "source": [
        "\n",
        "# Plot an ROC. pred - the predictions, y - the expected output.\n",
        "def plot_roc(pred,y):\n",
        "    fpr, tpr, _ = roc_curve(y, pred)\n",
        "    roc_auc = auc(fpr, tpr)\n",
        "\n",
        "    plt.figure()\n",
        "    plt.plot(fpr, tpr, label='ROC curve (area = %0.2f)' % roc_auc)\n",
        "    plt.plot([0, 1], [0, 1], 'k--')\n",
        "    plt.xlim([0.0, 1.0])\n",
        "    plt.ylim([0.0, 1.05])\n",
        "    plt.xlabel('False Positive Rate')\n",
        "    plt.ylabel('True Positive Rate')\n",
        "    plt.title('Receiver Operating Characteristic (ROC)')\n",
        "    plt.legend(loc=\"lower right\")\n",
        "    plt.show()"
      ],
      "execution_count": 0,
      "outputs": []
    },
    {
      "cell_type": "code",
      "metadata": {
        "id": "3rjYo6yssV6Y",
        "colab_type": "code",
        "colab": {}
      },
      "source": [
        "import tensorflow.keras\n",
        "from tensorflow.keras.models import Sequential\n",
        "from tensorflow.keras.layers import Dense, Activation\n",
        "from tensorflow.keras.callbacks import EarlyStopping\n",
        "from sklearn.model_selection import train_test_split\n"
      ],
      "execution_count": 0,
      "outputs": []
    },
    {
      "cell_type": "code",
      "metadata": {
        "id": "c26vrGHcuWOn",
        "colab_type": "code",
        "colab": {}
      },
      "source": [
        ""
      ],
      "execution_count": 0,
      "outputs": []
    },
    {
      "cell_type": "code",
      "metadata": {
        "id": "NyddfW88sYCt",
        "colab_type": "code",
        "colab": {}
      },
      "source": [
        "x_train, x_test, y_train, y_test = train_test_split(x,y, test_size = 0.25, random_state = 42)"
      ],
      "execution_count": 0,
      "outputs": []
    },
    {
      "cell_type": "code",
      "metadata": {
        "id": "fEESp1TNs6SH",
        "colab_type": "code",
        "outputId": "3eda5f62-c400-4fb5-caa1-48f3f92871ad",
        "colab": {
          "base_uri": "https://localhost:8080/",
          "height": 90
        }
      },
      "source": [
        "print(x_train.shape)\n",
        "print(y_train.shape)\n",
        "print(y_test.shape)\n",
        "print(x_test.shape)\n"
      ],
      "execution_count": 0,
      "outputs": [
        {
          "output_type": "stream",
          "text": [
            "(426, 30)\n",
            "(426,)\n",
            "(143,)\n",
            "(143, 30)\n"
          ],
          "name": "stdout"
        }
      ]
    },
    {
      "cell_type": "code",
      "metadata": {
        "id": "7liBmQ0rtRny",
        "colab_type": "code",
        "colab": {}
      },
      "source": [
        "model = Sequential()"
      ],
      "execution_count": 0,
      "outputs": []
    },
    {
      "cell_type": "code",
      "metadata": {
        "id": "nTNhgdJ4tXFl",
        "colab_type": "code",
        "colab": {}
      },
      "source": [
        "model.add(Dense(100, activation = \"relu\",input_dim = x_train.shape[1], kernel_initializer='random_normal'))\n",
        "model.add(Dense(50, activation = \"relu\", kernel_initializer=\"random_normal\"))\n",
        "model.add(Dense(25, activation = \"relu\", kernel_initializer=\"random_normal\"))\n",
        "model.add(Dense(1, activation = \"linear\", kernel_initializer=\"random_normal\"))\n",
        "model.compile(loss = tensorflow.keras.losses.binary_crossentropy, optimizer=tensorflow.keras.optimizers.Adam(), metrics=[\"accuracy\"])"
      ],
      "execution_count": 0,
      "outputs": []
    },
    {
      "cell_type": "code",
      "metadata": {
        "id": "-2Po2g71vPnI",
        "colab_type": "code",
        "colab": {}
      },
      "source": [
        "monitor = EarlyStopping(monitor = \"val_loss\", min_delta=1e-3, patience = 5, restore_best_weights=True)"
      ],
      "execution_count": 0,
      "outputs": []
    },
    {
      "cell_type": "code",
      "metadata": {
        "id": "20bUmptSvhYV",
        "colab_type": "code",
        "outputId": "2c776e8a-1fa5-430f-f223-0ae74f1ff761",
        "colab": {
          "base_uri": "https://localhost:8080/",
          "height": 678
        }
      },
      "source": [
        "model.fit(x_train,y_train,validation_data=(x_test,y_test),callbacks=[monitor],verbose=2,epochs=1000)\n"
      ],
      "execution_count": 0,
      "outputs": [
        {
          "output_type": "stream",
          "text": [
            "Train on 426 samples, validate on 143 samples\n",
            "Epoch 1/1000\n",
            "426/426 - 1s - loss: 4.5189 - accuracy: 0.3709 - val_loss: 2.2431 - val_accuracy: 0.3776\n",
            "Epoch 2/1000\n",
            "426/426 - 0s - loss: 1.9242 - accuracy: 0.3709 - val_loss: 1.5449 - val_accuracy: 0.3776\n",
            "Epoch 3/1000\n",
            "426/426 - 0s - loss: 1.2657 - accuracy: 0.3709 - val_loss: 0.9340 - val_accuracy: 0.3776\n",
            "Epoch 4/1000\n",
            "426/426 - 0s - loss: 0.6725 - accuracy: 0.5211 - val_loss: 0.3886 - val_accuracy: 0.8112\n",
            "Epoch 5/1000\n",
            "426/426 - 0s - loss: 0.2415 - accuracy: 0.8873 - val_loss: 0.1101 - val_accuracy: 0.9650\n",
            "Epoch 6/1000\n",
            "426/426 - 0s - loss: 0.1883 - accuracy: 0.9554 - val_loss: 0.0756 - val_accuracy: 0.9720\n",
            "Epoch 7/1000\n",
            "426/426 - 0s - loss: 0.2226 - accuracy: 0.9577 - val_loss: 0.0639 - val_accuracy: 0.9720\n",
            "Epoch 8/1000\n",
            "426/426 - 0s - loss: 0.2063 - accuracy: 0.9601 - val_loss: 0.0588 - val_accuracy: 0.9720\n",
            "Epoch 9/1000\n",
            "426/426 - 0s - loss: 0.1966 - accuracy: 0.9648 - val_loss: 0.0549 - val_accuracy: 0.9720\n",
            "Epoch 10/1000\n",
            "426/426 - 0s - loss: 0.1880 - accuracy: 0.9718 - val_loss: 0.0550 - val_accuracy: 0.9720\n",
            "Epoch 11/1000\n",
            "426/426 - 0s - loss: 0.1797 - accuracy: 0.9765 - val_loss: 0.1368 - val_accuracy: 0.9720\n",
            "Epoch 12/1000\n",
            "426/426 - 0s - loss: 0.1517 - accuracy: 0.9765 - val_loss: 0.0511 - val_accuracy: 0.9650\n",
            "Epoch 13/1000\n",
            "426/426 - 0s - loss: 0.0906 - accuracy: 0.9765 - val_loss: 0.0528 - val_accuracy: 0.9650\n",
            "Epoch 14/1000\n",
            "426/426 - 0s - loss: 0.0823 - accuracy: 0.9765 - val_loss: 0.0560 - val_accuracy: 0.9720\n",
            "Epoch 15/1000\n",
            "426/426 - 0s - loss: 0.0759 - accuracy: 0.9789 - val_loss: 0.1379 - val_accuracy: 0.9720\n",
            "Epoch 16/1000\n",
            "426/426 - 0s - loss: 0.0707 - accuracy: 0.9812 - val_loss: 0.1362 - val_accuracy: 0.9720\n",
            "Epoch 17/1000\n",
            "426/426 - 0s - loss: 0.0676 - accuracy: 0.9836 - val_loss: 0.1365 - val_accuracy: 0.9720\n"
          ],
          "name": "stdout"
        },
        {
          "output_type": "execute_result",
          "data": {
            "text/plain": [
              "<tensorflow.python.keras.callbacks.History at 0x7f9c1581d400>"
            ]
          },
          "metadata": {
            "tags": []
          },
          "execution_count": 27
        }
      ]
    },
    {
      "cell_type": "code",
      "metadata": {
        "id": "LBqte7lIyymn",
        "colab_type": "code",
        "colab": {}
      },
      "source": [
        "pred = model.predict(x_test)\n"
      ],
      "execution_count": 0,
      "outputs": []
    },
    {
      "cell_type": "code",
      "metadata": {
        "id": "UcI_f7h9zhI_",
        "colab_type": "code",
        "outputId": "0ac844df-5cdf-4fd8-b3b5-0e3df902d15c",
        "colab": {
          "base_uri": "https://localhost:8080/",
          "height": 35
        }
      },
      "source": [
        "len(pred)"
      ],
      "execution_count": 0,
      "outputs": [
        {
          "output_type": "execute_result",
          "data": {
            "text/plain": [
              "143"
            ]
          },
          "metadata": {
            "tags": []
          },
          "execution_count": 29
        }
      ]
    },
    {
      "cell_type": "code",
      "metadata": {
        "id": "a7NXJRimzfi4",
        "colab_type": "code",
        "outputId": "5800cda4-da3b-4473-99c7-8001c2d059a7",
        "colab": {
          "base_uri": "https://localhost:8080/",
          "height": 219
        }
      },
      "source": [
        "np.arange(0, len(pred))"
      ],
      "execution_count": 0,
      "outputs": [
        {
          "output_type": "execute_result",
          "data": {
            "text/plain": [
              "array([  0,   1,   2,   3,   4,   5,   6,   7,   8,   9,  10,  11,  12,\n",
              "        13,  14,  15,  16,  17,  18,  19,  20,  21,  22,  23,  24,  25,\n",
              "        26,  27,  28,  29,  30,  31,  32,  33,  34,  35,  36,  37,  38,\n",
              "        39,  40,  41,  42,  43,  44,  45,  46,  47,  48,  49,  50,  51,\n",
              "        52,  53,  54,  55,  56,  57,  58,  59,  60,  61,  62,  63,  64,\n",
              "        65,  66,  67,  68,  69,  70,  71,  72,  73,  74,  75,  76,  77,\n",
              "        78,  79,  80,  81,  82,  83,  84,  85,  86,  87,  88,  89,  90,\n",
              "        91,  92,  93,  94,  95,  96,  97,  98,  99, 100, 101, 102, 103,\n",
              "       104, 105, 106, 107, 108, 109, 110, 111, 112, 113, 114, 115, 116,\n",
              "       117, 118, 119, 120, 121, 122, 123, 124, 125, 126, 127, 128, 129,\n",
              "       130, 131, 132, 133, 134, 135, 136, 137, 138, 139, 140, 141, 142])"
            ]
          },
          "metadata": {
            "tags": []
          },
          "execution_count": 30
        }
      ]
    },
    {
      "cell_type": "code",
      "metadata": {
        "id": "mRYx_1jDyz_D",
        "colab_type": "code",
        "outputId": "12759c53-b1f6-40a5-e0b0-b58674cde77f",
        "colab": {
          "base_uri": "https://localhost:8080/",
          "height": 283
        }
      },
      "source": [
        "plt.scatter(np.arange(0, len(pred)), pred)"
      ],
      "execution_count": 0,
      "outputs": [
        {
          "output_type": "execute_result",
          "data": {
            "text/plain": [
              "<matplotlib.collections.PathCollection at 0x7f9c13651320>"
            ]
          },
          "metadata": {
            "tags": []
          },
          "execution_count": 31
        },
        {
          "output_type": "display_data",
          "data": {
            "image/png": "[encoded data removed]",
            "text/plain": [
              "<Figure size 432x288 with 1 Axes>"
            ]
          },
          "metadata": {
            "tags": []
          }
        }
      ]
    },
    {
      "cell_type": "code",
      "metadata": {
        "id": "rNyUrgHhzq4f",
        "colab_type": "code",
        "colab": {}
      },
      "source": [
        "model_sigmoid = Sequential()"
      ],
      "execution_count": 0,
      "outputs": []
    },
    {
      "cell_type": "code",
      "metadata": {
        "id": "VQLzLvHhy3py",
        "colab_type": "code",
        "colab": {}
      },
      "source": [
        "model_sigmoid.add(Dense(100, activation = \"relu\",input_dim = x_train.shape[1], kernel_initializer='random_normal'))\n",
        "model_sigmoid.add(Dense(50, activation = \"relu\", kernel_initializer=\"random_normal\"))\n",
        "model_sigmoid.add(Dense(25, activation = \"relu\", kernel_initializer=\"random_normal\"))\n",
        "model_sigmoid.add(Dense(1, activation = \"sigmoid\", kernel_initializer=\"random_normal\"))\n",
        "model_sigmoid.compile(loss = tensorflow.keras.losses.binary_crossentropy, optimizer=tensorflow.keras.optimizers.Adam(), metrics=[\"accuracy\"])"
      ],
      "execution_count": 0,
      "outputs": []
    },
    {
      "cell_type": "code",
      "metadata": {
        "id": "Vcg8-ry4z-sS",
        "colab_type": "code",
        "outputId": "67ac27d2-b5d9-44c2-93ed-7b5d16eb01b2",
        "colab": {
          "base_uri": "https://localhost:8080/",
          "height": 641
        }
      },
      "source": [
        "model_sigmoid.fit(x_train,y_train,validation_data=(x_test,y_test),callbacks=[monitor],verbose=2,epochs=1000)\n"
      ],
      "execution_count": 0,
      "outputs": [
        {
          "output_type": "stream",
          "text": [
            "Train on 426 samples, validate on 143 samples\n",
            "Epoch 1/1000\n",
            "426/426 - 1s - loss: 0.6835 - accuracy: 0.9061 - val_loss: 0.6602 - val_accuracy: 0.9441\n",
            "Epoch 2/1000\n",
            "426/426 - 0s - loss: 0.6163 - accuracy: 0.9390 - val_loss: 0.5112 - val_accuracy: 0.9580\n",
            "Epoch 3/1000\n",
            "426/426 - 0s - loss: 0.3904 - accuracy: 0.9413 - val_loss: 0.2073 - val_accuracy: 0.9580\n",
            "Epoch 4/1000\n",
            "426/426 - 0s - loss: 0.1645 - accuracy: 0.9577 - val_loss: 0.0804 - val_accuracy: 0.9720\n",
            "Epoch 5/1000\n",
            "426/426 - 0s - loss: 0.0994 - accuracy: 0.9671 - val_loss: 0.0556 - val_accuracy: 0.9790\n",
            "Epoch 6/1000\n",
            "426/426 - 0s - loss: 0.0815 - accuracy: 0.9789 - val_loss: 0.0504 - val_accuracy: 0.9860\n",
            "Epoch 7/1000\n",
            "426/426 - 0s - loss: 0.0697 - accuracy: 0.9789 - val_loss: 0.0458 - val_accuracy: 0.9930\n",
            "Epoch 8/1000\n",
            "426/426 - 0s - loss: 0.0627 - accuracy: 0.9812 - val_loss: 0.0462 - val_accuracy: 0.9930\n",
            "Epoch 9/1000\n",
            "426/426 - 0s - loss: 0.0573 - accuracy: 0.9859 - val_loss: 0.0459 - val_accuracy: 0.9860\n",
            "Epoch 10/1000\n",
            "426/426 - 0s - loss: 0.0533 - accuracy: 0.9836 - val_loss: 0.0496 - val_accuracy: 0.9860\n",
            "Epoch 11/1000\n",
            "426/426 - 0s - loss: 0.0485 - accuracy: 0.9859 - val_loss: 0.0426 - val_accuracy: 0.9860\n",
            "Epoch 12/1000\n",
            "426/426 - 0s - loss: 0.0455 - accuracy: 0.9906 - val_loss: 0.0484 - val_accuracy: 0.9860\n",
            "Epoch 13/1000\n",
            "426/426 - 0s - loss: 0.0430 - accuracy: 0.9859 - val_loss: 0.0548 - val_accuracy: 0.9860\n",
            "Epoch 14/1000\n",
            "426/426 - 0s - loss: 0.0374 - accuracy: 0.9930 - val_loss: 0.0499 - val_accuracy: 0.9860\n",
            "Epoch 15/1000\n",
            "426/426 - 0s - loss: 0.0338 - accuracy: 0.9930 - val_loss: 0.0522 - val_accuracy: 0.9860\n",
            "Epoch 16/1000\n",
            "426/426 - 0s - loss: 0.0311 - accuracy: 0.9930 - val_loss: 0.0579 - val_accuracy: 0.9860\n"
          ],
          "name": "stdout"
        },
        {
          "output_type": "execute_result",
          "data": {
            "text/plain": [
              "<tensorflow.python.keras.callbacks.History at 0x7f9c135e9ac8>"
            ]
          },
          "metadata": {
            "tags": []
          },
          "execution_count": 34
        }
      ]
    },
    {
      "cell_type": "code",
      "metadata": {
        "id": "yySxHJXM0IUF",
        "colab_type": "code",
        "colab": {}
      },
      "source": [
        "pred_sigmoid = model_sigmoid.predict(x_test)"
      ],
      "execution_count": 0,
      "outputs": []
    },
    {
      "cell_type": "code",
      "metadata": {
        "id": "idlRj6ox0P_e",
        "colab_type": "code",
        "outputId": "fb5da28b-e8aa-4c25-a333-8b9d2d9c8a89",
        "colab": {
          "base_uri": "https://localhost:8080/",
          "height": 283
        }
      },
      "source": [
        "plt.scatter(np.arange(0, len(pred_sigmoid)), pred_sigmoid)"
      ],
      "execution_count": 0,
      "outputs": [
        {
          "output_type": "execute_result",
          "data": {
            "text/plain": [
              "<matplotlib.collections.PathCollection at 0x7f9c13417d68>"
            ]
          },
          "metadata": {
            "tags": []
          },
          "execution_count": 36
        },
        {
          "output_type": "display_data",
          "data": {
            "image/png": "[encoded data removed]",
            "text/plain": [
              "<Figure size 432x288 with 1 Axes>"
            ]
          },
          "metadata": {
            "tags": []
          }
        }
      ]
    },
    {
      "cell_type": "code",
      "metadata": {
        "id": "seQVu5XG1lgF",
        "colab_type": "code",
        "outputId": "d5e006bd-7d09-4110-8417-07a1be56efc8",
        "colab": {
          "base_uri": "https://localhost:8080/",
          "height": 295
        }
      },
      "source": [
        "plot_roc(pred_sigmoid,y_test)"
      ],
      "execution_count": 0,
      "outputs": [
        {
          "output_type": "display_data",
          "data": {
            "image/png": "[encoded data removed]",
            "text/plain": [
              "<Figure size 432x288 with 1 Axes>"
            ]
          },
          "metadata": {
            "tags": []
          }
        }
      ]
    },
    {
      "cell_type": "markdown",
      "metadata": {
        "id": "FZMNU3vhbdSC",
        "colab_type": "text"
      },
      "source": [
        "### Multiclass Classification Error Metrics\n",
        "\n",
        "The following sections will examine several metrics for evaluating classification error. The following classification neural network will be used to evaluate."
      ]
    },
    {
      "cell_type": "code",
      "metadata": {
        "id": "G516VaHgbfJb",
        "colab_type": "code",
        "colab": {}
      },
      "source": [
        "df2 = pd.read_csv(\n",
        "        \"https://data.heatonresearch.com/data/t81-558/jh-simple-dataset.csv\",\n",
        "        na_values = [\"NA\", \"?\"])"
      ],
      "execution_count": 0,
      "outputs": []
    },
    {
      "cell_type": "code",
      "metadata": {
        "id": "0OZV90fgbzGr",
        "colab_type": "code",
        "outputId": "e562700f-1c95-4941-d906-0098c10c6fcd",
        "colab": {
          "base_uri": "https://localhost:8080/",
          "height": 206
        }
      },
      "source": [
        "display(df2.head())"
      ],
      "execution_count": 0,
      "outputs": [
        {
          "output_type": "display_data",
          "data": {
            "text/html": [
              "<div>\n",
              "<style scoped>\n",
              "    .dataframe tbody tr th:only-of-type {\n",
              "        vertical-align: middle;\n",
              "    }\n",
              "\n",
              "    .dataframe tbody tr th {\n",
              "        vertical-align: top;\n",
              "    }\n",
              "\n",
              "    .dataframe thead th {\n",
              "        text-align: right;\n",
              "    }\n",
              "</style>\n",
              "<table border=\"1\" class=\"dataframe\">\n",
              "  <thead>\n",
              "    <tr style=\"text-align: right;\">\n",
              "      <th></th>\n",
              "      <th>id</th>\n",
              "      <th>job</th>\n",
              "      <th>area</th>\n",
              "      <th>income</th>\n",
              "      <th>aspect</th>\n",
              "      <th>subscriptions</th>\n",
              "      <th>dist_healthy</th>\n",
              "      <th>save_rate</th>\n",
              "      <th>dist_unhealthy</th>\n",
              "      <th>age</th>\n",
              "      <th>pop_dense</th>\n",
              "      <th>retail_dense</th>\n",
              "      <th>crime</th>\n",
              "      <th>product</th>\n",
              "    </tr>\n",
              "  </thead>\n",
              "  <tbody>\n",
              "    <tr>\n",
              "      <th>0</th>\n",
              "      <td>1</td>\n",
              "      <td>vv</td>\n",
              "      <td>c</td>\n",
              "      <td>50876.0</td>\n",
              "      <td>13.100000</td>\n",
              "      <td>1</td>\n",
              "      <td>9.017895</td>\n",
              "      <td>35</td>\n",
              "      <td>11.738935</td>\n",
              "      <td>49</td>\n",
              "      <td>0.885827</td>\n",
              "      <td>0.492126</td>\n",
              "      <td>0.071100</td>\n",
              "      <td>b</td>\n",
              "    </tr>\n",
              "    <tr>\n",
              "      <th>1</th>\n",
              "      <td>2</td>\n",
              "      <td>kd</td>\n",
              "      <td>c</td>\n",
              "      <td>60369.0</td>\n",
              "      <td>18.625000</td>\n",
              "      <td>2</td>\n",
              "      <td>7.766643</td>\n",
              "      <td>59</td>\n",
              "      <td>6.805396</td>\n",
              "      <td>51</td>\n",
              "      <td>0.874016</td>\n",
              "      <td>0.342520</td>\n",
              "      <td>0.400809</td>\n",
              "      <td>c</td>\n",
              "    </tr>\n",
              "    <tr>\n",
              "      <th>2</th>\n",
              "      <td>3</td>\n",
              "      <td>pe</td>\n",
              "      <td>c</td>\n",
              "      <td>55126.0</td>\n",
              "      <td>34.766667</td>\n",
              "      <td>1</td>\n",
              "      <td>3.632069</td>\n",
              "      <td>6</td>\n",
              "      <td>13.671772</td>\n",
              "      <td>44</td>\n",
              "      <td>0.944882</td>\n",
              "      <td>0.724409</td>\n",
              "      <td>0.207723</td>\n",
              "      <td>b</td>\n",
              "    </tr>\n",
              "    <tr>\n",
              "      <th>3</th>\n",
              "      <td>4</td>\n",
              "      <td>11</td>\n",
              "      <td>c</td>\n",
              "      <td>51690.0</td>\n",
              "      <td>15.808333</td>\n",
              "      <td>1</td>\n",
              "      <td>5.372942</td>\n",
              "      <td>16</td>\n",
              "      <td>4.333286</td>\n",
              "      <td>50</td>\n",
              "      <td>0.889764</td>\n",
              "      <td>0.444882</td>\n",
              "      <td>0.361216</td>\n",
              "      <td>b</td>\n",
              "    </tr>\n",
              "    <tr>\n",
              "      <th>4</th>\n",
              "      <td>5</td>\n",
              "      <td>kl</td>\n",
              "      <td>d</td>\n",
              "      <td>28347.0</td>\n",
              "      <td>40.941667</td>\n",
              "      <td>3</td>\n",
              "      <td>3.822477</td>\n",
              "      <td>20</td>\n",
              "      <td>5.967121</td>\n",
              "      <td>38</td>\n",
              "      <td>0.744094</td>\n",
              "      <td>0.661417</td>\n",
              "      <td>0.068033</td>\n",
              "      <td>a</td>\n",
              "    </tr>\n",
              "  </tbody>\n",
              "</table>\n",
              "</div>"
            ],
            "text/plain": [
              "   id job area   income  ...  pop_dense  retail_dense     crime  product\n",
              "0   1  vv    c  50876.0  ...   0.885827      0.492126  0.071100        b\n",
              "1   2  kd    c  60369.0  ...   0.874016      0.342520  0.400809        c\n",
              "2   3  pe    c  55126.0  ...   0.944882      0.724409  0.207723        b\n",
              "3   4  11    c  51690.0  ...   0.889764      0.444882  0.361216        b\n",
              "4   5  kl    d  28347.0  ...   0.744094      0.661417  0.068033        a\n",
              "\n",
              "[5 rows x 14 columns]"
            ]
          },
          "metadata": {
            "tags": []
          }
        }
      ]
    },
    {
      "cell_type": "code",
      "metadata": {
        "id": "sp0TMkfZps5U",
        "colab_type": "code",
        "outputId": "b5c0f31e-53ce-4660-d62e-9070724c0929",
        "colab": {
          "base_uri": "https://localhost:8080/",
          "height": 35
        }
      },
      "source": [
        "df2.shape"
      ],
      "execution_count": 0,
      "outputs": [
        {
          "output_type": "execute_result",
          "data": {
            "text/plain": [
              "(2000, 14)"
            ]
          },
          "metadata": {
            "tags": []
          },
          "execution_count": 49
        }
      ]
    },
    {
      "cell_type": "code",
      "metadata": {
        "id": "8eHtv071py5J",
        "colab_type": "code",
        "outputId": "0ed458ae-d855-426f-920a-0e95aab873cb",
        "colab": {
          "base_uri": "https://localhost:8080/",
          "height": 35
        }
      },
      "source": [
        "len(df2.job.unique())"
      ],
      "execution_count": 0,
      "outputs": [
        {
          "output_type": "execute_result",
          "data": {
            "text/plain": [
              "33"
            ]
          },
          "metadata": {
            "tags": []
          },
          "execution_count": 52
        }
      ]
    },
    {
      "cell_type": "code",
      "metadata": {
        "id": "jClof6g5b359",
        "colab_type": "code",
        "colab": {}
      },
      "source": [
        "# Generate dummies for job\n",
        "job_dummies = pd.get_dummies(df2.job, prefix = \"job\")\n",
        "df2 = pd.concat([df2, job_dummies], axis = 1)\n",
        "df2.drop(\"job\", axis=1, inplace = True)"
      ],
      "execution_count": 0,
      "outputs": []
    },
    {
      "cell_type": "code",
      "metadata": {
        "id": "OmVuHoYfpqy_",
        "colab_type": "code",
        "outputId": "3067261f-233d-48ac-9163-5048616e9632",
        "colab": {
          "base_uri": "https://localhost:8080/",
          "height": 35
        }
      },
      "source": [
        "df2.shape"
      ],
      "execution_count": 0,
      "outputs": [
        {
          "output_type": "execute_result",
          "data": {
            "text/plain": [
              "(2000, 46)"
            ]
          },
          "metadata": {
            "tags": []
          },
          "execution_count": 54
        }
      ]
    },
    {
      "cell_type": "code",
      "metadata": {
        "id": "f2IoyTt2p9nb",
        "colab_type": "code",
        "outputId": "fc80fdf4-7f7e-48cc-90cd-377af7f9bfac",
        "colab": {
          "base_uri": "https://localhost:8080/",
          "height": 35
        }
      },
      "source": [
        "# Generate dummies for area\n",
        "area_dummies = pd.get_dummies(df2.area, prefix = \"area\")\n",
        "pd.concat([df2, area_dummies], axis = 1)\n",
        "df2.drop(\"area\", axis = 1, inplace = True)\n"
      ],
      "execution_count": 0,
      "outputs": [
        {
          "output_type": "execute_result",
          "data": {
            "text/plain": [
              "(569, 32)"
            ]
          },
          "metadata": {
            "tags": []
          },
          "execution_count": 57
        }
      ]
    },
    {
      "cell_type": "code",
      "metadata": {
        "id": "5X10L7A9qYj4",
        "colab_type": "code",
        "outputId": "58d0c7f9-fe06-4b09-bcd1-a375753dbe97",
        "colab": {
          "base_uri": "https://localhost:8080/",
          "height": 35
        }
      },
      "source": [
        "df2.shape"
      ],
      "execution_count": 0,
      "outputs": [
        {
          "output_type": "execute_result",
          "data": {
            "text/plain": [
              "(2000, 45)"
            ]
          },
          "metadata": {
            "tags": []
          },
          "execution_count": 59
        }
      ]
    },
    {
      "cell_type": "code",
      "metadata": {
        "id": "-lSnI29cqfYy",
        "colab_type": "code",
        "outputId": "603b2043-d8c3-404a-b8c2-bcd2ef399179",
        "colab": {
          "base_uri": "https://localhost:8080/",
          "height": 862
        }
      },
      "source": [
        "df2.isna().sum()"
      ],
      "execution_count": 0,
      "outputs": [
        {
          "output_type": "execute_result",
          "data": {
            "text/plain": [
              "id                 0\n",
              "income            59\n",
              "aspect             0\n",
              "subscriptions      0\n",
              "dist_healthy       0\n",
              "save_rate          0\n",
              "dist_unhealthy     0\n",
              "age                0\n",
              "pop_dense          0\n",
              "retail_dense       0\n",
              "crime              0\n",
              "product            0\n",
              "job_11             0\n",
              "job_al             0\n",
              "job_am             0\n",
              "job_ax             0\n",
              "job_bf             0\n",
              "job_by             0\n",
              "job_cv             0\n",
              "job_de             0\n",
              "job_dz             0\n",
              "job_e2             0\n",
              "job_f8             0\n",
              "job_gj             0\n",
              "job_gv             0\n",
              "job_kd             0\n",
              "job_ke             0\n",
              "job_kl             0\n",
              "job_kp             0\n",
              "job_ks             0\n",
              "job_kw             0\n",
              "job_mm             0\n",
              "job_nb             0\n",
              "job_nn             0\n",
              "job_ob             0\n",
              "job_pe             0\n",
              "job_po             0\n",
              "job_pq             0\n",
              "job_pz             0\n",
              "job_qp             0\n",
              "job_qw             0\n",
              "job_rn             0\n",
              "job_sa             0\n",
              "job_vv             0\n",
              "job_zz             0\n",
              "dtype: int64"
            ]
          },
          "metadata": {
            "tags": []
          },
          "execution_count": 61
        }
      ]
    },
    {
      "cell_type": "code",
      "metadata": {
        "id": "t5qaIq1DqkPF",
        "colab_type": "code",
        "colab": {}
      },
      "source": [
        "df2.income = df2.income.fillna(value = df2.income.median())"
      ],
      "execution_count": 0,
      "outputs": []
    },
    {
      "cell_type": "code",
      "metadata": {
        "id": "z9ARssFrqvNC",
        "colab_type": "code",
        "outputId": "ab6ff2f8-1278-41a7-c430-ff5989d2c297",
        "colab": {
          "base_uri": "https://localhost:8080/",
          "height": 862
        }
      },
      "source": [
        "df2.isna().sum()"
      ],
      "execution_count": 0,
      "outputs": [
        {
          "output_type": "execute_result",
          "data": {
            "text/plain": [
              "id                0\n",
              "income            0\n",
              "aspect            0\n",
              "subscriptions     0\n",
              "dist_healthy      0\n",
              "save_rate         0\n",
              "dist_unhealthy    0\n",
              "age               0\n",
              "pop_dense         0\n",
              "retail_dense      0\n",
              "crime             0\n",
              "product           0\n",
              "job_11            0\n",
              "job_al            0\n",
              "job_am            0\n",
              "job_ax            0\n",
              "job_bf            0\n",
              "job_by            0\n",
              "job_cv            0\n",
              "job_de            0\n",
              "job_dz            0\n",
              "job_e2            0\n",
              "job_f8            0\n",
              "job_gj            0\n",
              "job_gv            0\n",
              "job_kd            0\n",
              "job_ke            0\n",
              "job_kl            0\n",
              "job_kp            0\n",
              "job_ks            0\n",
              "job_kw            0\n",
              "job_mm            0\n",
              "job_nb            0\n",
              "job_nn            0\n",
              "job_ob            0\n",
              "job_pe            0\n",
              "job_po            0\n",
              "job_pq            0\n",
              "job_pz            0\n",
              "job_qp            0\n",
              "job_qw            0\n",
              "job_rn            0\n",
              "job_sa            0\n",
              "job_vv            0\n",
              "job_zz            0\n",
              "dtype: int64"
            ]
          },
          "metadata": {
            "tags": []
          },
          "execution_count": 63
        }
      ]
    },
    {
      "cell_type": "code",
      "metadata": {
        "id": "YIONV6VDqyKw",
        "colab_type": "code",
        "colab": {}
      },
      "source": [
        "# Standardize ranges\n",
        "df2['income'] = zscore(df2['income'])\n",
        "df2['aspect'] = zscore(df2['aspect'])\n",
        "df2['save_rate'] = zscore(df2['save_rate'])\n",
        "df2['age'] = zscore(df2['age'])\n",
        "df2['subscriptions'] = zscore(df2['subscriptions'])\n",
        "\n"
      ],
      "execution_count": 0,
      "outputs": []
    },
    {
      "cell_type": "code",
      "metadata": {
        "id": "wYNjxH_Rs6TP",
        "colab_type": "code",
        "colab": {}
      },
      "source": [
        "# Convert to numpy - Classification\n",
        "x_columns = df2.columns.drop(\"id\").drop(\"product\")\n",
        "x = df2[x_columns].values\n",
        "y_dummies = pd.get_dummies(df2[\"product\"])\n",
        "products = y_dummies.columns\n",
        "y = y_dummies.values"
      ],
      "execution_count": 0,
      "outputs": []
    },
    {
      "cell_type": "code",
      "metadata": {
        "id": "H0xrrGUQtars",
        "colab_type": "code",
        "outputId": "33346b39-213d-4e43-9657-621dd4f62926",
        "colab": {
          "base_uri": "https://localhost:8080/",
          "height": 320
        }
      },
      "source": [
        "df2.describe()"
      ],
      "execution_count": 0,
      "outputs": [
        {
          "output_type": "execute_result",
          "data": {
            "text/html": [
              "<div>\n",
              "<style scoped>\n",
              "    .dataframe tbody tr th:only-of-type {\n",
              "        vertical-align: middle;\n",
              "    }\n",
              "\n",
              "    .dataframe tbody tr th {\n",
              "        vertical-align: top;\n",
              "    }\n",
              "\n",
              "    .dataframe thead th {\n",
              "        text-align: right;\n",
              "    }\n",
              "</style>\n",
              "<table border=\"1\" class=\"dataframe\">\n",
              "  <thead>\n",
              "    <tr style=\"text-align: right;\">\n",
              "      <th></th>\n",
              "      <th>id</th>\n",
              "      <th>income</th>\n",
              "      <th>aspect</th>\n",
              "      <th>subscriptions</th>\n",
              "      <th>dist_healthy</th>\n",
              "      <th>save_rate</th>\n",
              "      <th>dist_unhealthy</th>\n",
              "      <th>age</th>\n",
              "      <th>pop_dense</th>\n",
              "      <th>retail_dense</th>\n",
              "      <th>crime</th>\n",
              "      <th>job_11</th>\n",
              "      <th>job_al</th>\n",
              "      <th>job_am</th>\n",
              "      <th>job_ax</th>\n",
              "      <th>job_bf</th>\n",
              "      <th>job_by</th>\n",
              "      <th>job_cv</th>\n",
              "      <th>job_de</th>\n",
              "      <th>job_dz</th>\n",
              "      <th>job_e2</th>\n",
              "      <th>job_f8</th>\n",
              "      <th>job_gj</th>\n",
              "      <th>job_gv</th>\n",
              "      <th>job_kd</th>\n",
              "      <th>job_ke</th>\n",
              "      <th>job_kl</th>\n",
              "      <th>job_kp</th>\n",
              "      <th>job_ks</th>\n",
              "      <th>job_kw</th>\n",
              "      <th>job_mm</th>\n",
              "      <th>job_nb</th>\n",
              "      <th>job_nn</th>\n",
              "      <th>job_ob</th>\n",
              "      <th>job_pe</th>\n",
              "      <th>job_po</th>\n",
              "      <th>job_pq</th>\n",
              "      <th>job_pz</th>\n",
              "      <th>job_qp</th>\n",
              "      <th>job_qw</th>\n",
              "      <th>job_rn</th>\n",
              "      <th>job_sa</th>\n",
              "      <th>job_vv</th>\n",
              "      <th>job_zz</th>\n",
              "    </tr>\n",
              "  </thead>\n",
              "  <tbody>\n",
              "    <tr>\n",
              "      <th>count</th>\n",
              "      <td>2000.000000</td>\n",
              "      <td>2.000000e+03</td>\n",
              "      <td>2.000000e+03</td>\n",
              "      <td>2.000000e+03</td>\n",
              "      <td>2000.000000</td>\n",
              "      <td>2.000000e+03</td>\n",
              "      <td>2000.000000</td>\n",
              "      <td>2.000000e+03</td>\n",
              "      <td>2000.000000</td>\n",
              "      <td>2000.000000</td>\n",
              "      <td>2000.000000</td>\n",
              "      <td>2000.00000</td>\n",
              "      <td>2000.000000</td>\n",
              "      <td>2000.00000</td>\n",
              "      <td>2000.00000</td>\n",
              "      <td>2000.000000</td>\n",
              "      <td>2000.000000</td>\n",
              "      <td>2000.000000</td>\n",
              "      <td>2000.000000</td>\n",
              "      <td>2000.000000</td>\n",
              "      <td>2000.000000</td>\n",
              "      <td>2000.00000</td>\n",
              "      <td>2000.000000</td>\n",
              "      <td>2000.000000</td>\n",
              "      <td>2000.000000</td>\n",
              "      <td>2000.000000</td>\n",
              "      <td>2000.000000</td>\n",
              "      <td>2000.000000</td>\n",
              "      <td>2000.000000</td>\n",
              "      <td>2000.000000</td>\n",
              "      <td>2000.000000</td>\n",
              "      <td>2000.000000</td>\n",
              "      <td>2000.000000</td>\n",
              "      <td>2000.000000</td>\n",
              "      <td>2000.000000</td>\n",
              "      <td>2000.000000</td>\n",
              "      <td>2000.000000</td>\n",
              "      <td>2000.000000</td>\n",
              "      <td>2000.000000</td>\n",
              "      <td>2000.000000</td>\n",
              "      <td>2000.000000</td>\n",
              "      <td>2000.000000</td>\n",
              "      <td>2000.000000</td>\n",
              "      <td>2000.000000</td>\n",
              "    </tr>\n",
              "    <tr>\n",
              "      <th>mean</th>\n",
              "      <td>1000.500000</td>\n",
              "      <td>-2.023381e-17</td>\n",
              "      <td>-1.079692e-17</td>\n",
              "      <td>-3.539391e-16</td>\n",
              "      <td>9.295306</td>\n",
              "      <td>-4.718448e-18</td>\n",
              "      <td>14.316942</td>\n",
              "      <td>1.554312e-18</td>\n",
              "      <td>0.879758</td>\n",
              "      <td>0.563258</td>\n",
              "      <td>0.275939</td>\n",
              "      <td>0.02150</td>\n",
              "      <td>0.037500</td>\n",
              "      <td>0.02150</td>\n",
              "      <td>0.00650</td>\n",
              "      <td>0.013500</td>\n",
              "      <td>0.012000</td>\n",
              "      <td>0.003500</td>\n",
              "      <td>0.055000</td>\n",
              "      <td>0.028000</td>\n",
              "      <td>0.011500</td>\n",
              "      <td>0.02100</td>\n",
              "      <td>0.003000</td>\n",
              "      <td>0.004000</td>\n",
              "      <td>0.070500</td>\n",
              "      <td>0.005500</td>\n",
              "      <td>0.067500</td>\n",
              "      <td>0.000500</td>\n",
              "      <td>0.000500</td>\n",
              "      <td>0.023500</td>\n",
              "      <td>0.016000</td>\n",
              "      <td>0.059000</td>\n",
              "      <td>0.046500</td>\n",
              "      <td>0.006000</td>\n",
              "      <td>0.104000</td>\n",
              "      <td>0.009500</td>\n",
              "      <td>0.000500</td>\n",
              "      <td>0.205500</td>\n",
              "      <td>0.094500</td>\n",
              "      <td>0.002000</td>\n",
              "      <td>0.002000</td>\n",
              "      <td>0.001000</td>\n",
              "      <td>0.046500</td>\n",
              "      <td>0.000500</td>\n",
              "    </tr>\n",
              "    <tr>\n",
              "      <th>std</th>\n",
              "      <td>577.494589</td>\n",
              "      <td>1.000250e+00</td>\n",
              "      <td>1.000250e+00</td>\n",
              "      <td>1.000250e+00</td>\n",
              "      <td>5.731798</td>\n",
              "      <td>1.000250e+00</td>\n",
              "      <td>8.209951</td>\n",
              "      <td>1.000250e+00</td>\n",
              "      <td>0.076570</td>\n",
              "      <td>0.152759</td>\n",
              "      <td>0.182886</td>\n",
              "      <td>0.14508</td>\n",
              "      <td>0.190031</td>\n",
              "      <td>0.14508</td>\n",
              "      <td>0.08038</td>\n",
              "      <td>0.115431</td>\n",
              "      <td>0.108912</td>\n",
              "      <td>0.059072</td>\n",
              "      <td>0.228037</td>\n",
              "      <td>0.165014</td>\n",
              "      <td>0.106646</td>\n",
              "      <td>0.14342</td>\n",
              "      <td>0.054704</td>\n",
              "      <td>0.063135</td>\n",
              "      <td>0.256052</td>\n",
              "      <td>0.073976</td>\n",
              "      <td>0.250949</td>\n",
              "      <td>0.022361</td>\n",
              "      <td>0.022361</td>\n",
              "      <td>0.151523</td>\n",
              "      <td>0.125506</td>\n",
              "      <td>0.235684</td>\n",
              "      <td>0.210618</td>\n",
              "      <td>0.077246</td>\n",
              "      <td>0.305337</td>\n",
              "      <td>0.097028</td>\n",
              "      <td>0.022361</td>\n",
              "      <td>0.404168</td>\n",
              "      <td>0.292596</td>\n",
              "      <td>0.044688</td>\n",
              "      <td>0.044688</td>\n",
              "      <td>0.031615</td>\n",
              "      <td>0.210618</td>\n",
              "      <td>0.022361</td>\n",
              "    </tr>\n",
              "    <tr>\n",
              "      <th>min</th>\n",
              "      <td>1.000000</td>\n",
              "      <td>-3.698464e+00</td>\n",
              "      <td>-1.417904e+00</td>\n",
              "      <td>-1.255928e+00</td>\n",
              "      <td>2.000000</td>\n",
              "      <td>-2.863493e+00</td>\n",
              "      <td>2.160180</td>\n",
              "      <td>-4.546792e+00</td>\n",
              "      <td>0.492126</td>\n",
              "      <td>0.000000</td>\n",
              "      <td>0.000000</td>\n",
              "      <td>0.00000</td>\n",
              "      <td>0.000000</td>\n",
              "      <td>0.00000</td>\n",
              "      <td>0.00000</td>\n",
              "      <td>0.000000</td>\n",
              "      <td>0.000000</td>\n",
              "      <td>0.000000</td>\n",
              "      <td>0.000000</td>\n",
              "      <td>0.000000</td>\n",
              "      <td>0.000000</td>\n",
              "      <td>0.00000</td>\n",
              "      <td>0.000000</td>\n",
              "      <td>0.000000</td>\n",
              "      <td>0.000000</td>\n",
              "      <td>0.000000</td>\n",
              "      <td>0.000000</td>\n",
              "      <td>0.000000</td>\n",
              "      <td>0.000000</td>\n",
              "      <td>0.000000</td>\n",
              "      <td>0.000000</td>\n",
              "      <td>0.000000</td>\n",
              "      <td>0.000000</td>\n",
              "      <td>0.000000</td>\n",
              "      <td>0.000000</td>\n",
              "      <td>0.000000</td>\n",
              "      <td>0.000000</td>\n",
              "      <td>0.000000</td>\n",
              "      <td>0.000000</td>\n",
              "      <td>0.000000</td>\n",
              "      <td>0.000000</td>\n",
              "      <td>0.000000</td>\n",
              "      <td>0.000000</td>\n",
              "      <td>0.000000</td>\n",
              "    </tr>\n",
              "    <tr>\n",
              "      <th>25%</th>\n",
              "      <td>500.750000</td>\n",
              "      <td>-5.264666e-01</td>\n",
              "      <td>-8.710929e-01</td>\n",
              "      <td>-2.084485e-01</td>\n",
              "      <td>4.937724</td>\n",
              "      <td>-6.971694e-01</td>\n",
              "      <td>7.858578</td>\n",
              "      <td>-4.959572e-01</td>\n",
              "      <td>0.838583</td>\n",
              "      <td>0.472441</td>\n",
              "      <td>0.141712</td>\n",
              "      <td>0.00000</td>\n",
              "      <td>0.000000</td>\n",
              "      <td>0.00000</td>\n",
              "      <td>0.00000</td>\n",
              "      <td>0.000000</td>\n",
              "      <td>0.000000</td>\n",
              "      <td>0.000000</td>\n",
              "      <td>0.000000</td>\n",
              "      <td>0.000000</td>\n",
              "      <td>0.000000</td>\n",
              "      <td>0.00000</td>\n",
              "      <td>0.000000</td>\n",
              "      <td>0.000000</td>\n",
              "      <td>0.000000</td>\n",
              "      <td>0.000000</td>\n",
              "      <td>0.000000</td>\n",
              "      <td>0.000000</td>\n",
              "      <td>0.000000</td>\n",
              "      <td>0.000000</td>\n",
              "      <td>0.000000</td>\n",
              "      <td>0.000000</td>\n",
              "      <td>0.000000</td>\n",
              "      <td>0.000000</td>\n",
              "      <td>0.000000</td>\n",
              "      <td>0.000000</td>\n",
              "      <td>0.000000</td>\n",
              "      <td>0.000000</td>\n",
              "      <td>0.000000</td>\n",
              "      <td>0.000000</td>\n",
              "      <td>0.000000</td>\n",
              "      <td>0.000000</td>\n",
              "      <td>0.000000</td>\n",
              "      <td>0.000000</td>\n",
              "    </tr>\n",
              "    <tr>\n",
              "      <th>50%</th>\n",
              "      <td>1000.500000</td>\n",
              "      <td>1.651291e-01</td>\n",
              "      <td>-2.525686e-01</td>\n",
              "      <td>-2.084485e-01</td>\n",
              "      <td>8.065855</td>\n",
              "      <td>-2.845363e-01</td>\n",
              "      <td>12.376985</td>\n",
              "      <td>3.142098e-01</td>\n",
              "      <td>0.889764</td>\n",
              "      <td>0.562992</td>\n",
              "      <td>0.241322</td>\n",
              "      <td>0.00000</td>\n",
              "      <td>0.000000</td>\n",
              "      <td>0.00000</td>\n",
              "      <td>0.00000</td>\n",
              "      <td>0.000000</td>\n",
              "      <td>0.000000</td>\n",
              "      <td>0.000000</td>\n",
              "      <td>0.000000</td>\n",
              "      <td>0.000000</td>\n",
              "      <td>0.000000</td>\n",
              "      <td>0.00000</td>\n",
              "      <td>0.000000</td>\n",
              "      <td>0.000000</td>\n",
              "      <td>0.000000</td>\n",
              "      <td>0.000000</td>\n",
              "      <td>0.000000</td>\n",
              "      <td>0.000000</td>\n",
              "      <td>0.000000</td>\n",
              "      <td>0.000000</td>\n",
              "      <td>0.000000</td>\n",
              "      <td>0.000000</td>\n",
              "      <td>0.000000</td>\n",
              "      <td>0.000000</td>\n",
              "      <td>0.000000</td>\n",
              "      <td>0.000000</td>\n",
              "      <td>0.000000</td>\n",
              "      <td>0.000000</td>\n",
              "      <td>0.000000</td>\n",
              "      <td>0.000000</td>\n",
              "      <td>0.000000</td>\n",
              "      <td>0.000000</td>\n",
              "      <td>0.000000</td>\n",
              "      <td>0.000000</td>\n",
              "    </tr>\n",
              "    <tr>\n",
              "      <th>75%</th>\n",
              "      <td>1500.250000</td>\n",
              "      <td>7.226491e-01</td>\n",
              "      <td>9.755160e-01</td>\n",
              "      <td>8.390315e-01</td>\n",
              "      <td>12.227631</td>\n",
              "      <td>3.859925e-01</td>\n",
              "      <td>19.312772</td>\n",
              "      <td>8.543211e-01</td>\n",
              "      <td>0.933071</td>\n",
              "      <td>0.673228</td>\n",
              "      <td>0.356615</td>\n",
              "      <td>0.00000</td>\n",
              "      <td>0.000000</td>\n",
              "      <td>0.00000</td>\n",
              "      <td>0.00000</td>\n",
              "      <td>0.000000</td>\n",
              "      <td>0.000000</td>\n",
              "      <td>0.000000</td>\n",
              "      <td>0.000000</td>\n",
              "      <td>0.000000</td>\n",
              "      <td>0.000000</td>\n",
              "      <td>0.00000</td>\n",
              "      <td>0.000000</td>\n",
              "      <td>0.000000</td>\n",
              "      <td>0.000000</td>\n",
              "      <td>0.000000</td>\n",
              "      <td>0.000000</td>\n",
              "      <td>0.000000</td>\n",
              "      <td>0.000000</td>\n",
              "      <td>0.000000</td>\n",
              "      <td>0.000000</td>\n",
              "      <td>0.000000</td>\n",
              "      <td>0.000000</td>\n",
              "      <td>0.000000</td>\n",
              "      <td>0.000000</td>\n",
              "      <td>0.000000</td>\n",
              "      <td>0.000000</td>\n",
              "      <td>0.000000</td>\n",
              "      <td>0.000000</td>\n",
              "      <td>0.000000</td>\n",
              "      <td>0.000000</td>\n",
              "      <td>0.000000</td>\n",
              "      <td>0.000000</td>\n",
              "      <td>0.000000</td>\n",
              "    </tr>\n",
              "    <tr>\n",
              "      <th>max</th>\n",
              "      <td>2000.000000</td>\n",
              "      <td>3.157229e+00</td>\n",
              "      <td>1.800215e+00</td>\n",
              "      <td>3.981471e+00</td>\n",
              "      <td>33.009306</td>\n",
              "      <td>5.784609e+00</td>\n",
              "      <td>37.052691</td>\n",
              "      <td>1.664488e+00</td>\n",
              "      <td>1.000000</td>\n",
              "      <td>0.972441</td>\n",
              "      <td>0.977276</td>\n",
              "      <td>1.00000</td>\n",
              "      <td>1.000000</td>\n",
              "      <td>1.00000</td>\n",
              "      <td>1.00000</td>\n",
              "      <td>1.000000</td>\n",
              "      <td>1.000000</td>\n",
              "      <td>1.000000</td>\n",
              "      <td>1.000000</td>\n",
              "      <td>1.000000</td>\n",
              "      <td>1.000000</td>\n",
              "      <td>1.00000</td>\n",
              "      <td>1.000000</td>\n",
              "      <td>1.000000</td>\n",
              "      <td>1.000000</td>\n",
              "      <td>1.000000</td>\n",
              "      <td>1.000000</td>\n",
              "      <td>1.000000</td>\n",
              "      <td>1.000000</td>\n",
              "      <td>1.000000</td>\n",
              "      <td>1.000000</td>\n",
              "      <td>1.000000</td>\n",
              "      <td>1.000000</td>\n",
              "      <td>1.000000</td>\n",
              "      <td>1.000000</td>\n",
              "      <td>1.000000</td>\n",
              "      <td>1.000000</td>\n",
              "      <td>1.000000</td>\n",
              "      <td>1.000000</td>\n",
              "      <td>1.000000</td>\n",
              "      <td>1.000000</td>\n",
              "      <td>1.000000</td>\n",
              "      <td>1.000000</td>\n",
              "      <td>1.000000</td>\n",
              "    </tr>\n",
              "  </tbody>\n",
              "</table>\n",
              "</div>"
            ],
            "text/plain": [
              "                id        income  ...       job_vv       job_zz\n",
              "count  2000.000000  2.000000e+03  ...  2000.000000  2000.000000\n",
              "mean   1000.500000 -2.023381e-17  ...     0.046500     0.000500\n",
              "std     577.494589  1.000250e+00  ...     0.210618     0.022361\n",
              "min       1.000000 -3.698464e+00  ...     0.000000     0.000000\n",
              "25%     500.750000 -5.264666e-01  ...     0.000000     0.000000\n",
              "50%    1000.500000  1.651291e-01  ...     0.000000     0.000000\n",
              "75%    1500.250000  7.226491e-01  ...     0.000000     0.000000\n",
              "max    2000.000000  3.157229e+00  ...     1.000000     1.000000\n",
              "\n",
              "[8 rows x 44 columns]"
            ]
          },
          "metadata": {
            "tags": []
          },
          "execution_count": 78
        }
      ]
    },
    {
      "cell_type": "code",
      "metadata": {
        "id": "HFKXgip4tlGA",
        "colab_type": "code",
        "colab": {}
      },
      "source": [
        "# Classification neural network\n",
        "import numpy as np\n",
        "import tensorflow.keras\n",
        "from tensorflow.keras.models import Sequential\n",
        "from tensorflow.keras.layers import Dense, Activation\n",
        "from tensorflow.keras.callbacks import EarlyStopping\n",
        "from sklearn.model_selection import train_test_split\n",
        "\n"
      ],
      "execution_count": 0,
      "outputs": []
    },
    {
      "cell_type": "code",
      "metadata": {
        "id": "5ZViiimatuu4",
        "colab_type": "code",
        "colab": {}
      },
      "source": [
        "x_train, x_test, y_train, y_test = train_test_split(x, y, test_size = 0.25, random_state = 42)"
      ],
      "execution_count": 0,
      "outputs": []
    },
    {
      "cell_type": "code",
      "metadata": {
        "id": "OpU9P4fxxJZE",
        "colab_type": "code",
        "outputId": "11ef1541-db68-49c0-ab8a-bd102052a898",
        "colab": {
          "base_uri": "https://localhost:8080/",
          "height": 35
        }
      },
      "source": [
        "x_train.shape"
      ],
      "execution_count": 0,
      "outputs": [
        {
          "output_type": "execute_result",
          "data": {
            "text/plain": [
              "(1500, 43)"
            ]
          },
          "metadata": {
            "tags": []
          },
          "execution_count": 108
        }
      ]
    },
    {
      "cell_type": "code",
      "metadata": {
        "id": "Z0SiWSWkuC4f",
        "colab_type": "code",
        "colab": {}
      },
      "source": [
        "model_multi  = Sequential()"
      ],
      "execution_count": 0,
      "outputs": []
    },
    {
      "cell_type": "code",
      "metadata": {
        "id": "P1QTjFeauLlA",
        "colab_type": "code",
        "colab": {}
      },
      "source": [
        "model_multi.add(Dense(units = 100, input_dim = x_train.shape[1], activation = \"relu\", kernel_initializer=\"random_normal\"))\n",
        "model_multi.add(Dense(50, activation='relu',kernel_initializer='random_normal'))\n",
        "model_multi.add(Dense(25,activation='relu',kernel_initializer='random_normal'))\n",
        "model_multi.add(Dense(y_train.shape[1], activation=\"softmax\", kernel_initializer=\"random_normal\"))"
      ],
      "execution_count": 0,
      "outputs": []
    },
    {
      "cell_type": "code",
      "metadata": {
        "id": "uQ5tl831u_f1",
        "colab_type": "code",
        "colab": {}
      },
      "source": [
        "model_multi.compile(optimizer=tensorflow.keras.optimizers.Adam(), \n",
        "                    loss = tensorflow.keras.losses.categorical_crossentropy,\n",
        "                    metrics = [\"accuracy\"])"
      ],
      "execution_count": 0,
      "outputs": []
    },
    {
      "cell_type": "code",
      "metadata": {
        "id": "_6aDnH2NvVct",
        "colab_type": "code",
        "colab": {}
      },
      "source": [
        "monitor = EarlyStopping(monitor='val_loss', min_delta=1e-3, patience=5, \n",
        "                        verbose=1, mode='auto', restore_best_weights=True)"
      ],
      "execution_count": 0,
      "outputs": []
    },
    {
      "cell_type": "code",
      "metadata": {
        "id": "-b2JcBfDvl0s",
        "colab_type": "code",
        "outputId": "8de803b0-5b40-4491-8cb6-a863e841dd96",
        "colab": {
          "base_uri": "https://localhost:8080/",
          "height": 1000
        }
      },
      "source": [
        "model_multi.fit(x_train,y_train,validation_data=(x_test, y_test), epochs  = 1000, verbose = 1, callbacks= [monitor])"
      ],
      "execution_count": 0,
      "outputs": [
        {
          "output_type": "stream",
          "text": [
            "Train on 1500 samples, validate on 500 samples\n",
            "Epoch 1/1000\n",
            "1500/1500 [==============================] - 1s 365us/sample - loss: 1.5659 - accuracy: 0.4567 - val_loss: 1.1406 - val_accuracy: 0.4980\n",
            "Epoch 2/1000\n",
            "1500/1500 [==============================] - 0s 87us/sample - loss: 1.1548 - accuracy: 0.4760 - val_loss: 1.1076 - val_accuracy: 0.4980\n",
            "Epoch 3/1000\n",
            "1500/1500 [==============================] - 0s 80us/sample - loss: 1.1006 - accuracy: 0.4867 - val_loss: 1.0245 - val_accuracy: 0.5400\n",
            "Epoch 4/1000\n",
            "1500/1500 [==============================] - 0s 83us/sample - loss: 0.9295 - accuracy: 0.6167 - val_loss: 0.8774 - val_accuracy: 0.6620\n",
            "Epoch 5/1000\n",
            "1500/1500 [==============================] - 0s 81us/sample - loss: 0.8448 - accuracy: 0.6633 - val_loss: 0.8240 - val_accuracy: 0.6820\n",
            "Epoch 6/1000\n",
            "1500/1500 [==============================] - 0s 95us/sample - loss: 0.8114 - accuracy: 0.6647 - val_loss: 0.8524 - val_accuracy: 0.6520\n",
            "Epoch 7/1000\n",
            "1500/1500 [==============================] - 0s 88us/sample - loss: 0.7729 - accuracy: 0.6933 - val_loss: 0.8024 - val_accuracy: 0.6840\n",
            "Epoch 8/1000\n",
            "1500/1500 [==============================] - 0s 84us/sample - loss: 0.7661 - accuracy: 0.6953 - val_loss: 0.7876 - val_accuracy: 0.6960\n",
            "Epoch 9/1000\n",
            "1500/1500 [==============================] - 0s 92us/sample - loss: 0.7409 - accuracy: 0.6913 - val_loss: 0.8108 - val_accuracy: 0.6820\n",
            "Epoch 10/1000\n",
            "1500/1500 [==============================] - 0s 110us/sample - loss: 0.7436 - accuracy: 0.6933 - val_loss: 0.7771 - val_accuracy: 0.6980\n",
            "Epoch 11/1000\n",
            "1500/1500 [==============================] - 0s 95us/sample - loss: 0.7160 - accuracy: 0.7060 - val_loss: 0.7723 - val_accuracy: 0.6960\n",
            "Epoch 12/1000\n",
            "1500/1500 [==============================] - 0s 88us/sample - loss: 0.7132 - accuracy: 0.6980 - val_loss: 0.7770 - val_accuracy: 0.7040\n",
            "Epoch 13/1000\n",
            "1500/1500 [==============================] - 0s 95us/sample - loss: 0.7013 - accuracy: 0.7060 - val_loss: 0.7768 - val_accuracy: 0.6780\n",
            "Epoch 14/1000\n",
            "1500/1500 [==============================] - 0s 85us/sample - loss: 0.6939 - accuracy: 0.7100 - val_loss: 0.7756 - val_accuracy: 0.6720\n",
            "Epoch 15/1000\n",
            "1500/1500 [==============================] - 0s 95us/sample - loss: 0.6891 - accuracy: 0.7067 - val_loss: 0.7722 - val_accuracy: 0.6980\n",
            "Epoch 16/1000\n",
            "1500/1500 [==============================] - 0s 85us/sample - loss: 0.6925 - accuracy: 0.7027 - val_loss: 0.7692 - val_accuracy: 0.6680\n",
            "Epoch 17/1000\n",
            "1500/1500 [==============================] - 0s 94us/sample - loss: 0.6775 - accuracy: 0.7020 - val_loss: 0.7504 - val_accuracy: 0.7060\n",
            "Epoch 18/1000\n",
            "1500/1500 [==============================] - 0s 89us/sample - loss: 0.6828 - accuracy: 0.7200 - val_loss: 0.7472 - val_accuracy: 0.7100\n",
            "Epoch 19/1000\n",
            "1500/1500 [==============================] - 0s 84us/sample - loss: 0.6800 - accuracy: 0.7007 - val_loss: 0.7545 - val_accuracy: 0.6960\n",
            "Epoch 20/1000\n",
            "1500/1500 [==============================] - 0s 83us/sample - loss: 0.6645 - accuracy: 0.7153 - val_loss: 0.7573 - val_accuracy: 0.6960\n",
            "Epoch 21/1000\n",
            "1500/1500 [==============================] - 0s 95us/sample - loss: 0.6670 - accuracy: 0.7133 - val_loss: 0.7520 - val_accuracy: 0.6900\n",
            "Epoch 22/1000\n",
            "1500/1500 [==============================] - 0s 86us/sample - loss: 0.6741 - accuracy: 0.7140 - val_loss: 0.7425 - val_accuracy: 0.7080\n",
            "Epoch 23/1000\n",
            "1500/1500 [==============================] - 0s 94us/sample - loss: 0.6647 - accuracy: 0.7127 - val_loss: 0.7551 - val_accuracy: 0.7020\n",
            "Epoch 24/1000\n",
            "1500/1500 [==============================] - 0s 94us/sample - loss: 0.6587 - accuracy: 0.7247 - val_loss: 0.7405 - val_accuracy: 0.7020\n",
            "Epoch 25/1000\n",
            "1500/1500 [==============================] - 0s 103us/sample - loss: 0.6540 - accuracy: 0.7133 - val_loss: 0.7385 - val_accuracy: 0.7060\n",
            "Epoch 26/1000\n",
            "1500/1500 [==============================] - 0s 86us/sample - loss: 0.6550 - accuracy: 0.7173 - val_loss: 0.7652 - val_accuracy: 0.6880\n",
            "Epoch 27/1000\n",
            "1500/1500 [==============================] - 0s 94us/sample - loss: 0.6541 - accuracy: 0.7207 - val_loss: 0.7587 - val_accuracy: 0.6960\n",
            "Epoch 28/1000\n",
            "1500/1500 [==============================] - 0s 87us/sample - loss: 0.6436 - accuracy: 0.7273 - val_loss: 0.7436 - val_accuracy: 0.7020\n",
            "Epoch 29/1000\n",
            "1500/1500 [==============================] - 0s 87us/sample - loss: 0.6428 - accuracy: 0.7233 - val_loss: 0.7507 - val_accuracy: 0.6960\n",
            "Epoch 30/1000\n",
            "1216/1500 [=======================>......] - ETA: 0s - loss: 0.6538 - accuracy: 0.7155Restoring model weights from the end of the best epoch.\n",
            "1500/1500 [==============================] - 0s 105us/sample - loss: 0.6507 - accuracy: 0.7160 - val_loss: 0.7460 - val_accuracy: 0.6980\n",
            "Epoch 00030: early stopping\n"
          ],
          "name": "stdout"
        },
        {
          "output_type": "execute_result",
          "data": {
            "text/plain": [
              "<tensorflow.python.keras.callbacks.History at 0x7f9c11191630>"
            ]
          },
          "metadata": {
            "tags": []
          },
          "execution_count": 116
        }
      ]
    },
    {
      "cell_type": "code",
      "metadata": {
        "id": "rerav86cx_69",
        "colab_type": "code",
        "colab": {}
      },
      "source": [
        "pred = model_multi.predict(x_test)"
      ],
      "execution_count": 0,
      "outputs": []
    },
    {
      "cell_type": "code",
      "metadata": {
        "id": "yDhLwoisyEM9",
        "colab_type": "code",
        "outputId": "52ba8755-ab7e-478c-e323-51781f383ba0",
        "colab": {
          "base_uri": "https://localhost:8080/",
          "height": 54
        }
      },
      "source": [
        "pred[0]"
      ],
      "execution_count": 0,
      "outputs": [
        {
          "output_type": "execute_result",
          "data": {
            "text/plain": [
              "array([9.2234370e-07, 7.7702165e-02, 6.7686301e-01, 2.4433140e-01,\n",
              "       1.0964271e-03, 5.9867048e-06, 4.8289159e-08], dtype=float32)"
            ]
          },
          "metadata": {
            "tags": []
          },
          "execution_count": 120
        }
      ]
    },
    {
      "cell_type": "code",
      "metadata": {
        "id": "STfcqe-xyMpZ",
        "colab_type": "code",
        "colab": {}
      },
      "source": [
        "pred = np.argmax(pred, axis = 1)"
      ],
      "execution_count": 0,
      "outputs": []
    },
    {
      "cell_type": "code",
      "metadata": {
        "id": "YkVu5BnZynDX",
        "colab_type": "code",
        "outputId": "5c309868-ad8b-4422-aad3-c3b5c318b703",
        "colab": {
          "base_uri": "https://localhost:8080/",
          "height": 35
        }
      },
      "source": [
        "pred[:10]"
      ],
      "execution_count": 0,
      "outputs": [
        {
          "output_type": "execute_result",
          "data": {
            "text/plain": [
              "array([2, 1, 1, 2, 2, 2, 2, 2, 1, 2])"
            ]
          },
          "metadata": {
            "tags": []
          },
          "execution_count": 123
        }
      ]
    },
    {
      "cell_type": "code",
      "metadata": {
        "id": "A6-BxZPuyo7i",
        "colab_type": "code",
        "outputId": "c83d5c39-3453-4a3e-e2b5-c8768097616b",
        "colab": {
          "base_uri": "https://localhost:8080/",
          "height": 35
        }
      },
      "source": [
        "np.argmax(y_test[:10], axis = 1)"
      ],
      "execution_count": 0,
      "outputs": [
        {
          "output_type": "execute_result",
          "data": {
            "text/plain": [
              "array([2, 1, 1, 1, 3, 1, 2, 2, 2, 2])"
            ]
          },
          "metadata": {
            "tags": []
          },
          "execution_count": 127
        }
      ]
    },
    {
      "cell_type": "code",
      "metadata": {
        "id": "2-VukliJy7XO",
        "colab_type": "code",
        "colab": {}
      },
      "source": [
        "y_compare = np.argmax(y_test, axis = 1)"
      ],
      "execution_count": 0,
      "outputs": []
    },
    {
      "cell_type": "code",
      "metadata": {
        "id": "SS-wEgk7zUb8",
        "colab_type": "code",
        "outputId": "b88575cb-4ecb-4f1d-9eb6-41d462b6f84d",
        "colab": {
          "base_uri": "https://localhost:8080/",
          "height": 439
        }
      },
      "source": [
        "pred"
      ],
      "execution_count": 0,
      "outputs": [
        {
          "output_type": "execute_result",
          "data": {
            "text/plain": [
              "array([2, 1, 1, 2, 2, 2, 2, 2, 1, 2, 2, 1, 2, 1, 1, 1, 1, 2, 1, 2, 1, 2,\n",
              "       1, 0, 1, 0, 1, 1, 1, 1, 2, 1, 2, 1, 2, 1, 2, 1, 2, 2, 1, 2, 2, 2,\n",
              "       2, 1, 1, 2, 1, 1, 1, 0, 1, 1, 0, 1, 2, 1, 1, 3, 1, 2, 2, 2, 2, 2,\n",
              "       1, 1, 2, 2, 1, 1, 2, 0, 2, 1, 2, 1, 2, 2, 1, 2, 1, 2, 1, 2, 1, 2,\n",
              "       2, 1, 1, 0, 2, 2, 0, 1, 1, 1, 2, 2, 1, 1, 1, 1, 2, 1, 2, 1, 1, 1,\n",
              "       2, 1, 2, 2, 1, 1, 1, 2, 2, 3, 2, 2, 2, 1, 1, 0, 0, 1, 2, 1, 1, 1,\n",
              "       1, 1, 1, 1, 2, 2, 1, 1, 1, 2, 1, 1, 2, 1, 2, 2, 2, 1, 2, 2, 0, 1,\n",
              "       2, 2, 1, 2, 1, 2, 1, 1, 2, 1, 2, 2, 1, 2, 1, 2, 2, 2, 2, 2, 2, 2,\n",
              "       1, 1, 1, 2, 1, 2, 2, 1, 1, 2, 1, 1, 2, 0, 2, 2, 2, 2, 1, 2, 1, 1,\n",
              "       2, 2, 1, 1, 0, 2, 2, 1, 2, 1, 2, 2, 1, 2, 1, 0, 0, 2, 2, 1, 1, 1,\n",
              "       1, 1, 2, 0, 0, 2, 1, 2, 1, 1, 1, 1, 1, 1, 1, 2, 1, 1, 1, 1, 1, 1,\n",
              "       1, 1, 1, 1, 0, 0, 1, 1, 1, 1, 0, 2, 1, 2, 2, 1, 2, 2, 2, 2, 2, 2,\n",
              "       2, 1, 1, 1, 2, 1, 2, 1, 1, 1, 1, 2, 2, 1, 1, 1, 0, 2, 1, 2, 1, 1,\n",
              "       1, 1, 1, 1, 1, 2, 0, 1, 1, 2, 2, 2, 1, 1, 2, 1, 0, 0, 1, 1, 1, 1,\n",
              "       1, 2, 1, 2, 0, 2, 1, 1, 2, 2, 1, 1, 1, 2, 2, 1, 1, 2, 1, 1, 2, 1,\n",
              "       2, 2, 1, 2, 1, 2, 1, 2, 2, 2, 2, 0, 1, 1, 1, 1, 0, 3, 1, 0, 1, 2,\n",
              "       2, 2, 1, 1, 1, 1, 1, 1, 1, 2, 1, 1, 1, 2, 1, 1, 2, 2, 1, 1, 0, 1,\n",
              "       1, 2, 1, 1, 2, 1, 0, 1, 1, 1, 2, 1, 2, 2, 1, 2, 2, 2, 1, 2, 1, 1,\n",
              "       0, 1, 1, 1, 1, 2, 1, 1, 1, 2, 2, 2, 1, 1, 2, 2, 1, 0, 1, 1, 0, 2,\n",
              "       2, 2, 1, 3, 2, 2, 1, 2, 1, 1, 1, 1, 2, 2, 2, 2, 1, 1, 2, 1, 1, 1,\n",
              "       1, 1, 2, 1, 2, 1, 1, 0, 2, 1, 1, 2, 1, 1, 1, 2, 2, 1, 2, 1, 1, 1,\n",
              "       2, 1, 2, 2, 2, 1, 2, 2, 2, 1, 2, 1, 1, 1, 2, 2, 1, 1, 2, 0, 2, 2,\n",
              "       2, 1, 0, 1, 1, 0, 1, 2, 0, 2, 2, 1, 2, 1, 2, 1])"
            ]
          },
          "metadata": {
            "tags": []
          },
          "execution_count": 132
        }
      ]
    },
    {
      "cell_type": "code",
      "metadata": {
        "id": "zwpt-RA6zWBC",
        "colab_type": "code",
        "outputId": "83095d78-1783-4edd-b571-1438ab64f516",
        "colab": {
          "base_uri": "https://localhost:8080/",
          "height": 35
        }
      },
      "source": [
        "y_compare"
      ],
      "execution_count": 0,
      "outputs": [
        {
          "output_type": "execute_result",
          "data": {
            "text/plain": [
              "2"
            ]
          },
          "metadata": {
            "tags": []
          },
          "execution_count": 133
        }
      ]
    },
    {
      "cell_type": "code",
      "metadata": {
        "id": "fRBWJmq0y-Af",
        "colab_type": "code",
        "colab": {}
      },
      "source": [
        "from sklearn.metrics import accuracy_score"
      ],
      "execution_count": 0,
      "outputs": []
    },
    {
      "cell_type": "code",
      "metadata": {
        "id": "c3cQU-OxzIb7",
        "colab_type": "code",
        "outputId": "63fa7f58-9dbe-4bfa-e650-1c5bba905954",
        "colab": {
          "base_uri": "https://localhost:8080/",
          "height": 35
        }
      },
      "source": [
        "accuracy_score(y_compare, pred)"
      ],
      "execution_count": 0,
      "outputs": [
        {
          "output_type": "execute_result",
          "data": {
            "text/plain": [
              "0.706"
            ]
          },
          "metadata": {
            "tags": []
          },
          "execution_count": 135
        }
      ]
    }
  ]
}